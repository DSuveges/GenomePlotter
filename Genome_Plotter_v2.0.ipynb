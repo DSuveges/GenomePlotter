{
 "cells": [
  {
   "cell_type": "markdown",
   "metadata": {},
   "source": [
    "# Genome plotter\n",
    "\n",
    "This ipython script was written to create a visual representation of the human genome, reflecting its chemical composition (GC content), distribution of protein coding genes, and location of know genome wide association signals.\n",
    "\n",
    "### Requirements:\n",
    "\n",
    "* Previously downloaded and processed genomic data (prepared by `prepare_data.sh`): chunked chromosomes in bed format, gwas catalog, gencode file.\n",
    "* non-standard python libraries: [pandas](http://pandas.pydata.org/), [numpy](http://www.numpy.org/), [cairosvg](http://cairosvg.org/), [pybedtools](https://pythonhosted.org/pybedtools/)\n",
    "* Just for the record: once cairo has been installed on an OSX using homebrew, python by default won't be able to link to the libraries. Therefore this path pointing the `cairo/lib` directory has to be exported:\n",
    "\n",
    "```bash\n",
    "export DYLD_FALLBACK_LIBRARY_PATH=~/homebrew/Cellar/cairo/1.14.12/lib/\n",
    "```\n",
    "\n",
    "\n",
    "### About the data:\n",
    "\n",
    "In this work I was using the GRCH38 build of the human genome (Ensembl release 83), GENCODE version , the GWAS catalog was downloaded on 2015.06.16 (genomic coordinates also in GRCH37), the downloadable GWAS catalog was extended with an in-house maintained positive control collection. \n",
    "\n",
    "\n",
    "### Further readings and references:\n",
    "\n",
    "* Human genome:\n",
    "\n",
    "* GWAS:\n",
    "\n",
    "### Data sources:\n",
    "\n",
    "* [Ensembl](Ensembl.org): the European genome database, where all known genomic information is aggregated including genes, transcripts, variations, regulatory elements and many more. They provide access to the human genome via ftp server.\n",
    "\n",
    "* [GWAS catalog](https://www.ebi.ac.uk/gwas/): manually curated collection of variations in the human genome with known phenotypical changes including [breast size](https://www.ebi.ac.uk/gwas/search?query=Breast%20size) and [polytical ideology](https://www.ebi.ac.uk/gwas/search?query=Political%20ideology). \n",
    "\n",
    "* [GENCODE](http://www.gencodegenes.org/): ultimate resource of annotated genetic elements example genes, transcripts, exons etc. "
   ]
  },
  {
   "cell_type": "code",
   "execution_count": 18,
   "metadata": {
    "ExecuteTime": {
     "end_time": "2018-04-03T00:46:17.872962Z",
     "start_time": "2018-04-03T00:46:17.827358Z"
    }
   },
   "outputs": [
    {
     "name": "stdout",
     "output_type": "stream",
     "text": [
      "The ipython_bell extension is already loaded. To reload it, use:\n",
      "  %reload_ext ipython_bell\n",
      "Last modified: 03/04/2018\n"
     ]
    }
   ],
   "source": [
    "import time\n",
    "%load_ext ipython_bell\n",
    "print (\"Last modified:\", (time.strftime(\"%d/%m/%Y\")))"
   ]
  },
  {
   "cell_type": "markdown",
   "metadata": {},
   "source": [
    "## Stage 1.\n",
    "\n",
    "In the first stage we further process the sequence data, and integrate GENCODE and GWAS data into a single dataframe and save it for plotting.\n",
    "\n",
    "### Steps:\n",
    "\n",
    "1. Reading bedfiles with the chunk numbers and the GC content.\n",
    "2. Run bedtools to find out which chunks overlap with protein coding genes and GWAS hits.\n",
    "3. Based on the GC content and the genetic overlapping, a color is assigned to each chunk.\n",
    "4. Constructing a data frame with the above mentioned data.\n",
    "5. Save dataframe in binary file (pickle)."
   ]
  },
  {
   "cell_type": "code",
   "execution_count": 19,
   "metadata": {
    "ExecuteTime": {
     "end_time": "2018-04-03T00:46:22.627070Z",
     "start_time": "2018-04-03T00:46:22.614939Z"
    }
   },
   "outputs": [],
   "source": [
    "'''\n",
    "Importig libraries:\n",
    "'''\n",
    "\n",
    "import gzip # For reading data\n",
    "import pybedtools # For finding overlap between our chunks and genes and GWAS signals\n",
    "import pandas as pd # data handling\n",
    "import numpy as np # Working with large arrays\n",
    "import colorsys # Generate color gradient.\n",
    "import cairosvg # Converting svg to image\n",
    "import pickle # Saving dataframes to disk\n",
    "import os.path # checking if the datafies are already there.\n",
    "from time import gmtime, strftime"
   ]
  },
  {
   "cell_type": "code",
   "execution_count": 20,
   "metadata": {
    "ExecuteTime": {
     "end_time": "2018-04-03T00:46:24.406002Z",
     "start_time": "2018-04-03T00:46:24.396734Z"
    }
   },
   "outputs": [
    {
     "data": {
      "text/plain": [
       "'2.1.2'"
      ]
     },
     "execution_count": 20,
     "metadata": {},
     "output_type": "execute_result"
    }
   ],
   "source": [
    "cairosvg.__version__"
   ]
  },
  {
   "cell_type": "markdown",
   "metadata": {},
   "source": [
    "### Color functions"
   ]
  },
  {
   "cell_type": "code",
   "execution_count": 30,
   "metadata": {
    "ExecuteTime": {
     "end_time": "2018-04-03T00:51:34.409695Z",
     "start_time": "2018-04-03T00:51:34.231488Z"
    },
    "code_folding": [
     3,
     9,
     16,
     44
    ],
    "collapsed": true
   },
   "outputs": [],
   "source": [
    "%%bell\n",
    "\n",
    "# Functions to generate and modify colors\n",
    "import colorsys\n",
    "\n",
    "def hex_to_RGB(hex):\n",
    "    ''' \"#FFFFFF\" -> [255,255,255] '''\n",
    "    # Pass 16 to the integer function for change of base\n",
    "    return [int(hex[i:i+2], 16) for i in range(1,6,2)]\n",
    "\n",
    "\n",
    "def RGB_to_hex(RGB):\n",
    "    ''' [255,255,255] -> \"#FFFFFF\" '''\n",
    "    # Components need to be integers for hex to make sense\n",
    "    RGB = [int(x) for x in RGB]\n",
    "    return \"#\"+\"\".join([\"0{0:x}\".format(v) if v < 16 else\n",
    "            \"{0:x}\".format(v) for v in RGB])\n",
    "\n",
    "def linear_gradient(start_hex, finish_hex=\"#FFFFFF\", n=10):\n",
    "    '''\n",
    "    returns a gradient list of (n) colors between\n",
    "    two hex colors. start_hex and finish_hex\n",
    "    should be the full six-digit color string,\n",
    "    inlcuding the sharp sign (eg \"#FFFFFF\")\n",
    "    '''\n",
    "    # Starting and ending colors in RGB form\n",
    "    s = hex_to_RGB(start_hex)\n",
    "    f = hex_to_RGB(finish_hex)\n",
    "\n",
    "    # Initilize a list of the output colors with the starting color\n",
    "    RGB_list = [start_hex]\n",
    "\n",
    "    # Calcuate a color at each evenly spaced value of t from 1 to n\n",
    "    for t in range(1, n):\n",
    "\n",
    "        # Interpolate RGB vector for color at the current value of t\n",
    "        curr_vector = [\n",
    "            int(s[j] + (float(t)/(n-1))*(f[j]-s[j]))\n",
    "            for j in range(3)\n",
    "        ]\n",
    "\n",
    "        # Add it to our list of output colors\n",
    "        RGB_list.append(RGB_to_hex(curr_vector))\n",
    "\n",
    "    return RGB_list\n",
    "\n",
    "def color_darkener(row, width, threshold, max_diff_value):\n",
    "    '''\n",
    "    width - how many chunks do we have in one line.\n",
    "    threshold - at which column the darkening starts\n",
    "    max_diff_value - the max value of darkening\n",
    "\n",
    "    Once the colors are assigned, we make the colors darker for those columns\n",
    "    that are at the end of the plot.\n",
    "    '''\n",
    "\n",
    "    color = row['color']\n",
    "    col_frac = row['x'] / width\n",
    "\n",
    "    # Ok, we have the color, now based on the column we make it a bit darker:\n",
    "    if col_frac > threshold:\n",
    "        diff = (col_frac - threshold)/(1 - threshold)\n",
    "        factor = 1 - max_diff_value*diff\n",
    "\n",
    "        # Get rgb code of the hexa code:\n",
    "        rgb_code = hex_to_RGB(color)\n",
    "\n",
    "        # Get the hls code of the rgb:\n",
    "        hls_code = colorsys.rgb_to_hls(rgb_code[0]/float(255),\n",
    "                                       rgb_code[1]/float(255),\n",
    "                                       rgb_code[2]/float(255))\n",
    "\n",
    "        # Get the modifed rgb code:\n",
    "        new_rgb = colorsys.hls_to_rgb(hls_code[0],\n",
    "                                      hls_code[1]*factor,\n",
    "                                      hls_code[2])\n",
    "\n",
    "        # Get the modifed hexacode:\n",
    "        color = RGB_to_hex([new_rgb[0] * 255,\n",
    "                           new_rgb[1] * 255,\n",
    "                           new_rgb[2] * 255])\n",
    "    return(color)\n"
   ]
  },
  {
   "cell_type": "markdown",
   "metadata": {},
   "source": [
    "### Helper functions:"
   ]
  },
  {
   "cell_type": "code",
   "execution_count": 22,
   "metadata": {
    "ExecuteTime": {
     "end_time": "2018-04-03T00:47:39.885170Z",
     "start_time": "2018-04-03T00:47:39.876296Z"
    },
    "code_folding": [],
    "collapsed": true
   },
   "outputs": [],
   "source": [
    "# Helper functions:\n",
    "def generate_xy(df, min_pos, chunk_size, width, position_column = 'start', x = 'x', y = 'y'):\n",
    "    '''\n",
    "    Generating x,y coordinates from genomic position and\n",
    "    the provided plot width or chunk size.\n",
    "\n",
    "    pos - genomic position\n",
    "    pixel - the size of the point taken up by one chunk.\n",
    "    width - number of chunks in one row\n",
    "    chunk_size - the number of basepairs pooled together in one chunk.\n",
    "    '''\n",
    "    pos = int(df[position_column]) - min_pos\n",
    "    chunk = int(int(pos)/chunk_size)\n",
    "    df[x] = (chunk - int(chunk / width)*width)\n",
    "    df[y] = int(chunk / width)\n",
    "    return (df)\n",
    "\n",
    "def get_now():\n",
    "    return strftime(\"%H:%M:%S\", gmtime())"
   ]
  },
  {
   "cell_type": "markdown",
   "metadata": {},
   "source": [
    "### Defining variables that are submitted from the command line"
   ]
  },
  {
   "cell_type": "code",
   "execution_count": 83,
   "metadata": {
    "ExecuteTime": {
     "end_time": "2018-04-03T09:55:12.734027Z",
     "start_time": "2018-04-03T09:55:12.535718Z"
    }
   },
   "outputs": [
    {
     "name": "stdout",
     "output_type": "stream",
     "text": [
      "[Info 08:55:12] Processing chromosome: 9.\n",
      "[Info 08:55:12] Fixed dimension: Width, length: 200 chunks.\n",
      "[Info 08:55:12] Working directory: /Users/ds26/Projects/GenomePlotter.\n"
     ]
    }
   ],
   "source": [
    "%%bell\n",
    "\n",
    "# These values are submitted from the command line:\n",
    "chromosome = '9'\n",
    "dimension = 200 # Number of chunks in one row or columns\n",
    "axis = 1 # Fixed dimension: 1 - width, 0 - column\n",
    "pixel = 22 # Size of one chunk\n",
    "darkStart = 0.75 # What fraction of rows the darkening starts\n",
    "darkMax = 0.15 # The maximum darkening\n",
    "test = '' #30000 # Number of chunks read from the input chromosome.\n",
    "\n",
    "# Understanding the provided axis:\n",
    "fixed_dim = \"Width\"\n",
    "if axis == 2:\n",
    "    fixed_dim = \"Height\"\n",
    "\n",
    "# Print report:\n",
    "print(\"[Info %s] Processing chromosome: %s.\" % (get_now(), chromosome))\n",
    "print(\"[Info %s] Fixed dimension: %s, length: %s chunks.\" % (get_now(), fixed_dim, dimension))\n",
    "\n",
    "workingDir = os.getcwd()\n",
    "print(\"[Info %s] Working directory: %s.\" % (get_now(), workingDir))\n",
    "\n",
    "# Checking input files:\n",
    "cytoband_file = workingDir + '/data/cytoBand.GRCh38.bed.bgz'\n",
    "Chromosome_file_loc = workingDir + \"/data/Processed_chr%s.bed.gz\"\n",
    "GWAS_file_loc = workingDir + \"/data/processed_GWAS.bed.gz\"\n",
    "GENCODE_file_loc = workingDir + \"/data/GENCODE.merged.bed.gz\"\n",
    "outputDir = workingDir + \"/plots\""
   ]
  },
  {
   "cell_type": "markdown",
   "metadata": {},
   "source": [
    "### Reading genome file"
   ]
  },
  {
   "cell_type": "code",
   "execution_count": 84,
   "metadata": {
    "ExecuteTime": {
     "end_time": "2018-04-03T10:02:07.199494Z",
     "start_time": "2018-04-03T09:55:14.654275Z"
    },
    "code_folding": []
   },
   "outputs": [
    {
     "name": "stdout",
     "output_type": "stream",
     "text": [
      "[Info 08:55:14] reading file /Users/ds26/Projects/GenomePlotter/data/Processed_chr9.bed.gz... \n",
      "[Info 08:55:15] Number of chunks read: 307543\n",
      "[Info 08:55:15] Chunk size: 450.0 bp, plot width: 200\n",
      "[Info 08:55:15] Calculating plot coordinates for each chunk.\n",
      "       chr   start     end  GC_ratio  x  y\n",
      "start                                     \n",
      "0      9.0     0.0   450.0       NaN  0  0\n",
      "450    9.0   450.0   900.0       NaN  1  0\n",
      "900    9.0   900.0  1350.0       NaN  2  0\n",
      "1350   9.0  1350.0  1800.0       NaN  3  0\n",
      "1800   9.0  1800.0  2250.0       NaN  4  0\n"
     ]
    }
   ],
   "source": [
    "%%bell\n",
    "\n",
    "# Reading datafile:\n",
    "dataFile = Chromosome_file_loc % chromosome\n",
    "print(\"[Info %s] reading file %s... \" % (get_now(), dataFile))\n",
    "chr_dataf = pd.read_csv(dataFile, compression='gzip', sep='\\t', quotechar='\"')\n",
    "\n",
    "# If we want to do test, we can restrict the dataframe to n lines:\n",
    "if test:\n",
    "    chr_dataf = chr_dataf.ix[0:test]\n",
    "    print(\"[Info %s] Test mode is on. The first %s rows will be kept.\" %(get_now(), test))\n",
    "\n",
    "# the start position will be the new index:\n",
    "chr_dataf = chr_dataf.set_index('start', drop = False)\n",
    "\n",
    "chunk_size = chr_dataf.head(1).apply(lambda x: x['end'] - x['start'], axis = 1).tolist()[0]\n",
    "min_pos  = chr_dataf.start.min()\n",
    "print(\"[Info %s] Number of chunks read: %s\" %(get_now(), chr_dataf.shape[0]))\n",
    "\n",
    "# Get the width (number of chunks plotted in one row)\n",
    "width = dimension # We are dealing with fixed column numbers\n",
    "if axis == 2:  width = int(chr_dataf.shape[0]/dimension) # We are dealing with fixed number of rows.\n",
    "\n",
    "# Adding plot coordinates to the dataframe:\n",
    "print(\"[Info %s] Chunk size: %s bp, plot width: %s\" %(get_now(), chunk_size, width))\n",
    "print(\"[Info %s] Calculating plot coordinates for each chunk.\" %(get_now()))\n",
    "chr_dataf = chr_dataf.apply(generate_xy, args = (min_pos, chunk_size, width), axis =1)\n",
    "print(chr_dataf.head())\n"
   ]
  },
  {
   "cell_type": "markdown",
   "metadata": {},
   "source": [
    "### Reading GENCODE file and merge with genome"
   ]
  },
  {
   "cell_type": "code",
   "execution_count": 85,
   "metadata": {
    "ExecuteTime": {
     "end_time": "2018-04-03T10:02:28.520110Z",
     "start_time": "2018-04-03T10:02:18.918404Z"
    }
   },
   "outputs": [
    {
     "name": "stdout",
     "output_type": "stream",
     "text": [
      "[Info 09:02:18] Reading GENCODE file (/Users/ds26/Projects/GenomePlotter/data/GENCODE.merged.bed.gz)...\n",
      "[Info 09:02:18] Selecting intersecting features.\n",
      "[Info 09:02:20] Assign intersecting features to each chunk.\n",
      "       chr   start     end  GC_ratio  x  y     GENCODE\n",
      "start                                                 \n",
      "0      9.0     0.0   450.0       NaN  0  0  intergenic\n",
      "450    9.0   450.0   900.0       NaN  1  0  intergenic\n",
      "900    9.0   900.0  1350.0       NaN  2  0  intergenic\n",
      "1350   9.0  1350.0  1800.0       NaN  3  0  intergenic\n",
      "1800   9.0  1800.0  2250.0       NaN  4  0  intergenic\n"
     ]
    }
   ],
   "source": [
    "%%bell\n",
    "\n",
    "# Reading GENCODE file:\n",
    "print(\"[Info %s] Reading GENCODE file (%s)...\" % (get_now(), GENCODE_file_loc))\n",
    "GENCODE_bed = pybedtools.BedTool(GENCODE_file_loc)\n",
    "\n",
    "# Run intersectbed:\n",
    "chr_data_bed = pybedtools.BedTool(dataFile)\n",
    "\n",
    "print(\"[Info %s] Selecting intersecting features.\" %(get_now()))\n",
    "GencodeIntersect = chr_data_bed.intersect(GENCODE_bed, wa = True, wb = True)\n",
    "GC_INT = pybedtools.bedtool.BedTool.to_dataframe(GencodeIntersect)\n",
    "\n",
    "# Assign features to each chunk:\n",
    "print(\"[Info %s] Assign intersecting features to each chunk.\" % (get_now()))\n",
    "GENCODE_chunks = GC_INT.groupby('start').apply(lambda x: 'exon' if 'exon' in x.thickEnd.unique() else 'gene' )\n",
    "GENCODE_chunks.names = \"GENCODE\"\n",
    "\n",
    "chr_dataf['GENCODE'] = 'intergenic' # By default, all GENCODE values are intergenic\n",
    "chr_dataf.GENCODE.update(GENCODE_chunks) # This value will be overwritten if overlaps with exon or gene\n",
    "print(chr_dataf.head())"
   ]
  },
  {
   "cell_type": "markdown",
   "metadata": {
    "collapsed": true
   },
   "source": [
    "### Reading cytoband file"
   ]
  },
  {
   "cell_type": "code",
   "execution_count": 86,
   "metadata": {
    "ExecuteTime": {
     "end_time": "2018-04-03T10:03:59.121261Z",
     "start_time": "2018-04-03T10:03:58.800790Z"
    }
   },
   "outputs": [
    {
     "name": "stdout",
     "output_type": "stream",
     "text": [
      "[Info 09:03:58] Opening and processing cytoband file...\n",
      "     chr     start       end   name    type    x   y1   y2\n",
      "1058   9         0   2200000  p24.3    gneg   88    0   24\n",
      "1059   9   2200000   4600000  p24.2  gpos25   22   24   51\n",
      "1060   9   4600000   9000000  p24.1    gneg    0   51  100\n",
      "1061   9   9000000  14200000    p23  gpos75  155  100  157\n",
      "1062   9  14200000  16600000  p22.3    gneg   88  157  184\n"
     ]
    }
   ],
   "source": [
    "%%bell\n",
    "\n",
    "# Reading cytoband file:\n",
    "print(\"[Info %s] Opening and processing cytoband file...\" %(get_now()))\n",
    "cyb_df = pd.read_csv(cytoband_file, compression='gzip', sep='\\t')\n",
    "cyb_df = cyb_df.loc[cyb_df.chr == chromosome] # Selecting only the relevant rows\n",
    "\n",
    "# Centromeres actually won't be used.... these rows will be deleted:\n",
    "centromer_loc = cyb_df.loc[(cyb_df.chr == chromosome) & (cyb_df.type == 'acen'),['start', 'end']]\n",
    "centromer_loc = (int(centromer_loc.start.min()),\n",
    "                 int(centromer_loc.end.max()))\n",
    "\n",
    "# Calculating proper y coordinate for both the start and end position of each cytoband (x coordinate won't be used:):\n",
    "cyb_df = cyb_df.apply(generate_xy, axis = 1, args = (min_pos, chunk_size, width), y = 'y1')\n",
    "cyb_df = cyb_df.apply(generate_xy, axis = 1, args = (min_pos, chunk_size, width), position_column = 'end', y = 'y2')\n",
    "\n",
    "print(cyb_df.head())\n",
    "\n",
    "# Assigning centromere:\n",
    "chr_dataf.loc[(chr_dataf.end > centromer_loc[0]) & (chr_dataf.start < centromer_loc[1]) , 'GENCODE'] = 'centromere'\n",
    "\n",
    "# Assigning heterocromatin where no GC ratio is available:\n",
    "chr_dataf.loc[chr_dataf.GC_ratio.isnull(), 'GENCODE'] = 'heterochromatin'"
   ]
  },
  {
   "cell_type": "markdown",
   "metadata": {},
   "source": [
    "### Assigning colors"
   ]
  },
  {
   "cell_type": "code",
   "execution_count": 87,
   "metadata": {
    "ExecuteTime": {
     "end_time": "2018-04-03T10:04:24.280720Z",
     "start_time": "2018-04-03T10:04:03.919806Z"
    },
    "code_folding": []
   },
   "outputs": [
    {
     "name": "stdout",
     "output_type": "stream",
     "text": [
      "[Info 09:04:03] Assigning colors to each chunk.\n",
      "[Info 09:04:15] Apply darkness filter.\n",
      "       chr   start     end  GC_ratio  x  y          GENCODE    color\n",
      "start                                                               \n",
      "0      9.0     0.0   450.0       NaN  0  0  heterochromatin  #F9D2C2\n",
      "450    9.0   450.0   900.0       NaN  1  0  heterochromatin  #F9D2C2\n",
      "900    9.0   900.0  1350.0       NaN  2  0  heterochromatin  #F9D2C2\n",
      "1350   9.0  1350.0  1800.0       NaN  3  0  heterochromatin  #F9D2C2\n",
      "1800   9.0  1800.0  2250.0       NaN  4  0  heterochromatin  #F9D2C2\n"
     ]
    }
   ],
   "source": [
    "%%bell\n",
    "\n",
    "# Basic color assignment and adjustment:\n",
    "colors_GENCODE = {\n",
    "    'centromere'      : linear_gradient('#9393FF', n=20),\n",
    "    'heterochromatin' : linear_gradient('#F9D2C2', finish_hex='#ffc6af', n=20), # Monochrome, no gradient!\n",
    "    'intergenic'      : linear_gradient('#A3E0D1', n=20),\n",
    "    'exon'            : linear_gradient('#FFD326', n=20),\n",
    "    'gene'            : linear_gradient('#6CB8CC', n=20)\n",
    "}\n",
    "\n",
    "print(\"[Info %s] Assigning colors to each chunk.\" % (get_now()))\n",
    "chr_dataf['color'] = chr_dataf.apply(lambda x: colors_GENCODE[x['GENCODE']][int(x[3]*20)] if not np.isnan(x[3]) else colors_GENCODE['heterochromatin'][0], axis = 1)\n",
    "\n",
    "# Get the colors darker based on column number:\n",
    "print(\"[Info %s] Apply darkness filter.\" % (get_now()))\n",
    "chr_dataf['color'] = chr_dataf.apply(color_darkener, axis = 1, args=(width, darkStart, darkMax))\n",
    "print(chr_dataf.head())"
   ]
  },
  {
   "cell_type": "markdown",
   "metadata": {},
   "source": [
    "### Selecting GWAS signals"
   ]
  },
  {
   "cell_type": "code",
   "execution_count": 88,
   "metadata": {
    "ExecuteTime": {
     "end_time": "2018-04-03T10:04:34.656684Z",
     "start_time": "2018-04-03T10:04:31.727835Z"
    },
    "code_folding": []
   },
   "outputs": [
    {
     "name": "stdout",
     "output_type": "stream",
     "text": [
      "[Info 09:04:31] Opening GWAS file..\n",
      "[Info 09:04:31] Calculating plot coordinates for overlapping GWAS sigals.\n"
     ]
    }
   ],
   "source": [
    "%%bell\n",
    "\n",
    "## Overlapping GWAS signals:\n",
    "print(\"[Info %s] Opening GWAS file..\" %(get_now()))\n",
    "GWAS_file = pybedtools.BedTool(GWAS_file_loc)\n",
    "full_GWAS = pybedtools.bedtool.BedTool.to_dataframe(GWAS_file)\n",
    "GWAS_df = full_GWAS[full_GWAS.chrom == str(chromosome)]\n",
    "print(\"[Info %s] Calculating plot coordinates for overlapping GWAS sigals.\" %(get_now()))\n",
    "GWAS_df = GWAS_df.apply(generate_xy, args = (min_pos, chunk_size, width), axis =1)\n"
   ]
  },
  {
   "cell_type": "markdown",
   "metadata": {},
   "source": [
    "## Adding annotations "
   ]
  },
  {
   "cell_type": "code",
   "execution_count": null,
   "metadata": {
    "ExecuteTime": {
     "end_time": "2018-04-03T00:52:13.839762Z",
     "start_time": "2018-04-03T00:52:13.348881Z"
    },
    "scrolled": false
   },
   "outputs": [],
   "source": [
    "%%bell\n",
    "\n",
    "\n",
    "\n",
    "# Reading the list of genes to be added as extra annotation:\n",
    "genes_df = pd.read_table('temp/genes.txt', sep = \" \")\n",
    "genes_bed = pybedtools.BedTool.from_dataframe(genes_df)\n",
    "\n",
    "# Extracting the chunks overlapping with the genes:\n",
    "genes_Intersect = genes_bed.intersect(chr_data_bed, wa = True, wb = True)\n",
    "genes_Intersect_df = genes_Intersect.to_dataframe()\n",
    "genes_Intersect_df[['x', 'y', 'GENCODE', 'color']] = genes_Intersect_df.apply(lambda x: chr_dataf.loc[x['thickStart']][['x', 'y', 'GENCODE', 'color']], axis =1)\n",
    "\n",
    "# Assigning colors to the selected dataframe:\n",
    "gene_select_color = {\n",
    "    'gene'   : linear_gradient('#FD25BC', n=20),\n",
    "    'exon'   : linear_gradient('#FFC300', n=20)\n",
    "}\n",
    "\n",
    "print(\"[Info %s] Assigning colors to each chunk in the selected gene.\" % (get_now()))\n",
    "genes_Intersect_df['color'] = genes_Intersect_df.apply(lambda x: gene_select_color[x['GENCODE']][int(x['itemRgb']*20)], axis = 1)\n",
    "genes_Intersect_df['color'] = genes_Intersect_df.apply(color_darkener, axis = 1, args=(width, darkStart, darkMax))\n",
    "print(genes_Intersect_df.head())\n"
   ]
  },
  {
   "cell_type": "markdown",
   "metadata": {},
   "source": [
    "### Plotting chromosome:"
   ]
  },
  {
   "cell_type": "code",
   "execution_count": 89,
   "metadata": {
    "ExecuteTime": {
     "end_time": "2018-04-03T10:26:38.015896Z",
     "start_time": "2018-04-03T10:07:16.836552Z"
    },
    "code_folding": [
     3,
     39,
     63
    ]
   },
   "outputs": [
    {
     "name": "stdout",
     "output_type": "stream",
     "text": [
      "<svg width=\"3980\" height=\"30740\" >\n",
      " 199 1537 20\n",
      "[Info 09:07:17] Drawing chunks (307543 of them)... might take a while to complete.\n",
      "[Info 09:26:15] Adding GWAS hits.\n",
      "[Info 09:26:37] Marking centromere.\n",
      "737.085427136 0\n",
      "[Info] An svg file is created...\n",
      "[Info] Printing svg definitions.\n"
     ]
    }
   ],
   "source": [
    "%%bell\n",
    "\n",
    "\n",
    "class process_chrom:\n",
    "    '''\n",
    "    This class plots the chromosomes and saves a gzipped text file.\n",
    "    Also can create defs... whatever.\n",
    "    '''\n",
    "\n",
    "    def __init__(self, width, height, pixel, defs = 0):\n",
    "        self.width = width\n",
    "        self.height = height\n",
    "        self.pixel = pixel\n",
    "        self.plot = ''\n",
    "        \n",
    "        # Initializing an empty dict for the defs:\n",
    "        self.defs = {}\n",
    "        \n",
    "        # The header will be stored in case we would like to save the plot as an svg:\n",
    "        self.header = '<svg width=\"%s\" height=\"%s\" >\\n' %(width * pixel, height * pixel)\n",
    "        print(self.header, width, height, pixel)\n",
    "\n",
    "        # If we would like, we can include the defs tag as well:\n",
    "        if defs == 1:\n",
    "            self.__add_def('chunk', '<rect x=\"0\" y=\"0\" width=\"%s\" height=\"%s\" style=\"stroke-width:0\" />\\n' %\n",
    "                (pixel, pixel))\n",
    "\n",
    "    def __add_def(self, ID, svg_string):\n",
    "        '''\n",
    "        This function adds an other <g> object to the <defs> section of the\n",
    "        svg object.\n",
    "\n",
    "        Until the whole object is saved, all the definitions will be stored in a\n",
    "        dictionary.\n",
    "        '''\n",
    "\n",
    "        self.defs[ID] = svg_string\n",
    "\n",
    "    # Adding square:\n",
    "    def draw_chunk(self, row):\n",
    "        '''\n",
    "        This function expects a row of a dataframe in which there must be the\n",
    "        following three columns:\n",
    "            x - column number\n",
    "            y - row number\n",
    "            color - color of the field in hexadecimal code.\n",
    "        '''\n",
    "        x = row['x']\n",
    "        y = row['y']\n",
    "        color = row['color']\n",
    "        self.plot += ('<use x=\"%s\" y=\"%s\" href=\"#chunk\" style=\"fill: %s;\"/>\\n' %(x*self.pixel, y*self.pixel, color))\n",
    "\n",
    "    # Adding dot:\n",
    "    def draw_GWAS(self, row):\n",
    "        '''\n",
    "        The GWAS signals are added as dots. There's no need to use g and use tags.\n",
    "        '''\n",
    "        x = row['x']\n",
    "        y = row['y']\n",
    "        self.plot += ('<circle cx=\"%s\" cy=\"%s\" r=\"%s\" stroke=\"%s\" stroke-width=\"1\" fill=\"%s\" />\\n' %\n",
    "            (x*self.pixel, y*self.pixel, 0.5 * self.pixel, \"black\", \"black\"))\n",
    "\n",
    "    # Marking centromere:\n",
    "    def mark_centromere(self, centr_start, centr_end):\n",
    "        '''\n",
    "        Based on the coordinates of the centromoere, this function compiles an svg\n",
    "        path for the centromere and addes to the plot object.\n",
    "        '''\n",
    "\n",
    "        # The y coordinate of the centromere start and end points 0 adjusted:\n",
    "        centr_y_start = 0\n",
    "        centr_y_end = self.pixel * (centr_end - centr_start) / self.width\n",
    "        centr_y_midpoint = centr_y_end / 2\n",
    "        centr_x_midpoint = centr_y_end * 2\n",
    "        print(centr_y_end, centr_y_start)\n",
    "\n",
    "        # Creating the centromere path:\n",
    "        half_centromere = ('<path d=\"M %s %s C %s %s, %s %s, %s %s C %s %s, %s %s, %s %s Z\" fill=\"white\"/>' %\n",
    "                 ( 0, centr_y_start,\n",
    "                   0, centr_y_midpoint,\n",
    "                   centr_x_midpoint/2, centr_y_midpoint,\n",
    "                   centr_x_midpoint, centr_y_midpoint,\n",
    "                   centr_x_midpoint/2, centr_y_midpoint,\n",
    "                   0, centr_y_midpoint,\n",
    "                   0, centr_y_end))\n",
    "\n",
    "        # Set position for the left side:\n",
    "        left_centromere_side = '<g transform=\"translate(0, %s)\">\\n\\t%s\\n</g>\\n' %((centr_start * self.pixel)/self.width, half_centromere)\n",
    "\n",
    "        # Set position for the right side:\n",
    "        right_centromere_side = '<g transform=\"rotate(180 0 %s) translate(-%s, -%s)\">\\n\\t%s\\n</g>\\n' %(\n",
    "            centr_y_midpoint, self.pixel*self.width,(centr_start * self.pixel)/self.width, half_centromere)\n",
    "\n",
    "        # Adding centromeres to the plot:\n",
    "        self.centromere = '<g id=\"centromere\">\\n%s %s </g>\\n' % (left_centromere_side, right_centromere_side)\n",
    "        \n",
    "\n",
    "    # Saving svg object into a text file:\n",
    "    def save(self, file_name):\n",
    "        '''\n",
    "        This function saves the plot object stored in self.plot with the self.defs formatted.\n",
    "        '''\n",
    "        \n",
    "        # Opening file.\n",
    "        f = open(file_name, 'w')\n",
    "        \n",
    "        # Check if the filename contain svg or not.\n",
    "        # If yes, print out header\n",
    "        if '.svg' in file_name:\n",
    "            print(\"[Info] An svg file is created...\")\n",
    "            f.write(self.header)\n",
    "        \n",
    "        # Check if definitions has beed added.\n",
    "        # If yes, print out formatted defs\n",
    "        if len(self.defs) > 0:\n",
    "            print(\"[Info] Printing svg definitions.\")\n",
    "            # self['defs'][ID] = svg_string\n",
    "            f.write('<defs>\\n')\n",
    "            for def_ID in self.defs:\n",
    "                f.write('<g id=\"%s\">%s</g>\\n' %(def_ID, self.defs[def_ID]))\n",
    "            f.write('</defs>\\n')\n",
    "            \n",
    "        # Print out chunks.\n",
    "        f.write(self.plot)\n",
    "        \n",
    "        # Print out print out centromere\n",
    "        f.write(self.centromere)\n",
    "        \n",
    "        # if svg is requied, closing svg block.\n",
    "        if '.svg' in file_name:\n",
    "            f.write(\"</svg>\\n\")\n",
    "        \n",
    "        # Closing file handle.\n",
    "        f.close\n",
    "\n",
    "outputFileName = outputDir +(\"/cicaful_chr9_v2\")\n",
    "cytoband_color = '#999999'\n",
    "\n",
    "# Initialize plot:\n",
    "pixel = 20\n",
    "plot = process_chrom(chr_dataf.x.max(), chr_dataf.y.max(), pixel, 1)\n",
    "\n",
    "print(\"[Info %s] Drawing chunks (%s of them)... might take a while to complete.\" % (get_now(), chr_dataf.shape[0]))\n",
    "chr_dataf.apply(plot.draw_chunk, axis = 1)\n",
    "\n",
    "#print(\"[Info %s] Adding selected genes (%s chunks).\" % (get_now(), genes_Intersect_df.shape[0]))\n",
    "#genes_Intersect_df.apply(plot.draw_chunk, axis = 1, y_scale = 2, y_shift = -0.5)\n",
    "\n",
    "print(\"[Info %s] Adding GWAS hits.\" %(get_now()))\n",
    "GWAS_df.apply(plot.draw_GWAS, axis = 1 )\n",
    "\n",
    "print(\"[Info %s] Marking centromere.\" %(get_now()))\n",
    "plot.mark_centromere(int(centromer_loc[0]/chunk_size), int(centromer_loc[1]/chunk_size))\n",
    "\n",
    "plot.save(\"test.svg\")\n",
    "\n",
    "#GWAS_df.sample(frac = 0.20).apply(plot.add_assoc, axis = 1 )\n",
    "\n",
    "#print(\"[Info %s] Adding cytoband ruler.\" %(get_now()))\n",
    "#cyb_df.loc[cyb_df.chr == chromosome].apply(plot.draw_cytoband, axis = 1)\n",
    "\n",
    "#print(\"[Info %s] Saving png file..\" % (get_now()))\n",
    "#plot_svg = plot.save_png(outputFileName + \".png\")\n"
   ]
  },
  {
   "cell_type": "markdown",
   "metadata": {},
   "source": [
    "![caption](plots/cicaful.png)"
   ]
  },
  {
   "cell_type": "code",
   "execution_count": 20,
   "metadata": {
    "ExecuteTime": {
     "end_time": "2018-03-28T17:17:21.790028Z",
     "start_time": "2018-03-28T17:17:21.342318Z"
    },
    "code_folding": [
     67,
     87,
     108,
     124,
     148,
     152,
     183,
     191
    ]
   },
   "outputs": [
    {
     "ename": "NameError",
     "evalue": "name 'plot_svg' is not defined",
     "output_type": "error",
     "traceback": [
      "\u001b[0;31m---------------------------------------------------------------------------\u001b[0m",
      "\u001b[0;31mNameError\u001b[0m                                 Traceback (most recent call last)",
      "\u001b[0;32m<ipython-input-20-c8c28ed94cac>\u001b[0m in \u001b[0;36m<module>\u001b[0;34m()\u001b[0m\n\u001b[1;32m    220\u001b[0m \u001b[0;31m# Initialize plot:\u001b[0m\u001b[0;34m\u001b[0m\u001b[0;34m\u001b[0m\u001b[0m\n\u001b[1;32m    221\u001b[0m \u001b[0mpixel\u001b[0m \u001b[0;34m=\u001b[0m \u001b[0;36m20\u001b[0m\u001b[0;34m\u001b[0m\u001b[0m\n\u001b[0;32m--> 222\u001b[0;31m \u001b[0mplot\u001b[0m \u001b[0;34m=\u001b[0m \u001b[0mSVG_plot\u001b[0m\u001b[0;34m(\u001b[0m\u001b[0mchr_dataf\u001b[0m\u001b[0;34m.\u001b[0m\u001b[0mx\u001b[0m\u001b[0;34m.\u001b[0m\u001b[0mmax\u001b[0m\u001b[0;34m(\u001b[0m\u001b[0;34m)\u001b[0m\u001b[0;34m,\u001b[0m \u001b[0mchr_dataf\u001b[0m\u001b[0;34m.\u001b[0m\u001b[0my\u001b[0m\u001b[0;34m.\u001b[0m\u001b[0mmax\u001b[0m\u001b[0;34m(\u001b[0m\u001b[0;34m)\u001b[0m\u001b[0;34m,\u001b[0m \u001b[0mpixel\u001b[0m\u001b[0;34m,\u001b[0m \u001b[0mmargins\u001b[0m \u001b[0;34m=\u001b[0m \u001b[0;34m[\u001b[0m\u001b[0;36m35\u001b[0m\u001b[0;34m,\u001b[0m \u001b[0;36m35\u001b[0m\u001b[0;34m,\u001b[0m \u001b[0;36m35\u001b[0m\u001b[0;34m,\u001b[0m \u001b[0;36m35\u001b[0m\u001b[0;34m]\u001b[0m\u001b[0;34m,\u001b[0m \u001b[0mplot\u001b[0m \u001b[0;34m=\u001b[0m \u001b[0mplot_svg\u001b[0m\u001b[0;34m)\u001b[0m\u001b[0;34m\u001b[0m\u001b[0m\n\u001b[0m\u001b[1;32m    223\u001b[0m \u001b[0mGWAS_df\u001b[0m\u001b[0;34m.\u001b[0m\u001b[0msample\u001b[0m\u001b[0;34m(\u001b[0m\u001b[0mfrac\u001b[0m \u001b[0;34m=\u001b[0m \u001b[0;36m0.20\u001b[0m\u001b[0;34m)\u001b[0m\u001b[0;34m.\u001b[0m\u001b[0mapply\u001b[0m\u001b[0;34m(\u001b[0m\u001b[0mplot\u001b[0m\u001b[0;34m.\u001b[0m\u001b[0madd_assoc\u001b[0m\u001b[0;34m,\u001b[0m \u001b[0maxis\u001b[0m \u001b[0;34m=\u001b[0m \u001b[0;36m1\u001b[0m \u001b[0;34m)\u001b[0m\u001b[0;34m\u001b[0m\u001b[0m\n\u001b[1;32m    224\u001b[0m \u001b[0;34m\u001b[0m\u001b[0m\n",
      "\u001b[0;31mNameError\u001b[0m: name 'plot_svg' is not defined"
     ]
    },
    {
     "ename": "AttributeError",
     "evalue": "'NameError' object has no attribute 'message'",
     "output_type": "error",
     "traceback": [
      "\u001b[0;31m---------------------------------------------------------------------------\u001b[0m",
      "\u001b[0;31mAttributeError\u001b[0m                            Traceback (most recent call last)",
      "\u001b[0;32m<ipython-input-20-7c6a8891a3ce>\u001b[0m in \u001b[0;36m<module>\u001b[0;34m()\u001b[0m\n\u001b[0;32m----> 1\u001b[0;31m \u001b[0mget_ipython\u001b[0m\u001b[0;34m(\u001b[0m\u001b[0;34m)\u001b[0m\u001b[0;34m.\u001b[0m\u001b[0mrun_cell_magic\u001b[0m\u001b[0;34m(\u001b[0m\u001b[0;34m'bell'\u001b[0m\u001b[0;34m,\u001b[0m \u001b[0;34m''\u001b[0m\u001b[0;34m,\u001b[0m \u001b[0;34m'\\n# The svg class \\nimport cairosvg\\nimport math\\nimport sys\\n\\nclass SVG_plot:\\n    \\'\\'\\'\\n    This class contains all the methods and data to create the genome plot in svg format.\\n    Once the process is done, use can choose to save the svg or render using cairosvg.\\n\\n    margins = array of four integers corresponding to the left, upper, right and bottom margin.\\n\\n    At this point the function won\\'t check if the arguments are correct.\\n    \\'\\'\\'\\n\\n    def __init__(self, width, height, pixel, margins = [0,0,0,0], plot = {}):\\n\\n        # Testing if margins are proper:\\n        try:\\n            self.margins = [ int(x * pixel) for x in margins]\\n        except:\\n            sys.exit(\"[Error] Margins were not properly formatted! Expecting an array of four floats.\")\\n\\n        self.width = width\\n        self.height = height\\n        self.pixel = pixel\\n\\n        # Constants for the cytobnand plot:\\n        self.cband_x1 = self.margins[0] - 9 * pixel # right coordiante of the band\\n        self.cband_x2 = self.margins[0] - 15 * pixel # left coordinate of the band \\n        self.cband_width = (self.cband_x1 - self.cband_x2) # width of the band\\n        self.cband_colors = {\\n            \\'gneg\\'    : \\'#FFFFFF\\', # White\\n            \\'gpos25\\'  : \\'#E5E5E5\\', # Gray90\\n            \\'gpos50\\'  : \\'#CCCCCC\\', # Gray80\\n            \\'gpos75\\'  : \\'#B3B3B3\\', # Gray70\\n            \\'gpos100\\' : \\'#999999\\', # Gray60\\n            \\'acen\\'    : \\'#CCCCCC\\', # Gray80\\n            \\'gvar\\'    : \\'#999999\\', # Gray60\\n            \\'stalk\\'   : \\'#E5E5E5\\', # Gray90\\n            \\'border\\'  : \\'#999999\\'  # Gray90\\n        }\\n        self.cband_stroke = self.pixel * 0.2\\n        self.cband_font = self.pixel * 8\\n        \\n        # constants for the star:\\n        self.star_scale = pixel * 2\\n        self.star_line = pixel / 5\\n        self.star_color = \"#E25FDA\"\\n        self.star_line_color = \"white\"\\n        \\n        # This is a scaled star for plotting custom annotation:\\n        self.star = [e for ts in zip([self.__rotate(0, self.star_scale, math.radians(alpha*36)) for alpha in range(0,9,2)],\\n                                    [self.__rotate(0, self.star_scale, math.radians(alpha*36), 1.7) for alpha in range(1,10,2)],) for e in ts]\\n\\n        # the plot is initialized unless it\\'s submitted:\\n        if not \\'header\\' in plot.keys():\\n            self.plot = { \\'header\\' : \\'<svg width=\"%s\" height=\"%s\">\\\\n\\' % (width*pixel + self.margins[0] + self.margins[2], \\n                                                                         height*pixel + self.margins[1] + self.margins[3])}\\n        else:\\n            self.plot = plot\\n\\n        # generating closing tag:\\n        self.__close()\\n\\n    def __adjust_coord(self, x, y):\\n        \\'\\'\\' This simple function just sifts the coordinates by the margins and corrects for the pixel size.\\'\\'\\'\\n        return (int(x*self.pixel + self.margins[0]),\\n                int(y*self.pixel + self.margins[1]))\\n\\n    def add_assoc(self, row):\\n        \\'\\'\\' Adding a star to the polt and the rsID and trait... once later\\'\\'\\'\\n        (x,y) = self.__adjust_coord(row[\\'x\\'], row[\\'y\\'])\\n\\n        # Initializing the association string:\\n        if not \\'assoc\\' in self.plot.keys(): self.plot[\\'assoc\\'] = \\'\\' \\n\\n        # Offsetting the star:\\n        self.plot[\\'assoc\\'] += (\\'<polygon stroke=\"%s\" fill=\"%s\" stroke-width=\"%s\" points=\"%s\" />\\\\n\\' % (\\n                              self.star_line_color, self.star_color, self.star_line, \\n                               \" \".join([\",\".join([str(x + a[0] + self.pixel/2),str(y+a[1] + self.pixel/2)]) for a in self.star])))\\n        \\n        # Adding annotation:\\n        # to be implemented.... not yet there...\\n\\n    def draw_chunk(self, row, y_scale = 1, y_shift = 0):\\n        \\'\\'\\'\\n        This function expects a row of a dataframe in which there must be the\\n        following three columns:\\n            x - column number\\n            y - row number\\n            color - color of the field in hexadecimal code.\\n            \\n        y_scale: the pre-defined pixel size will be scaled by this factor.\\n        y_sihft: the box will be shifted on the y axis by this factor (in pixel)\\n        \\'\\'\\'\\n        (x,y) = self.__adjust_coord(row[\\'x\\'],row[\\'y\\'])\\n        color = row[\\'color\\']\\n        \\n        # Initializing the association string:\\n        if not \\'chromosome\\' in self.plot.keys(): self.plot[\\'chromosome\\'] = \\'\\' \\n        \\n        # Drawing chromosome:\\n        self.plot[\\'chromosome\\'] += (\\'<rect x=\"%s\" y=\"%s\" width=\"%s\" height=\"%s\" style=\"stroke-width:1;stroke:%s; fill: %s\" />\\\\n\\' %\\n            (x, (y + self.pixel * y_shift), self.pixel , self.pixel * y_scale, color, color))\\n\\n    def draw_GWAS(self, row):\\n        (x,y) = self.__adjust_coord(row[\\'x\\'],row[\\'y\\'])\\n        \\n        # Initializing the association string:\\n        if not \\'GWAS\\' in self.plot.keys(): self.plot[\\'GWAS\\'] = \\'\\' \\n        \\n        self.plot[\\'GWAS\\'] += (\\'<circle cx=\"%s\" cy=\"%s\" r=\"%s\" stroke=\"%s\" stroke-width=\"1\" fill=\"%s\" />\\\\n\\' %\\n            (x + self.pixel/2, y + self.pixel/2, self.pixel * 0.75, \"black\", \"black\"))\\n\\n    def mark_centromere(self, centr_start, centr_end):\\n\\n        # calculating the y coordinates of the centromeres based on the chunk count:\\n        start_y = int(centr_start / self.width)\\n        end_y = int(centr_end / self.width)\\n\\n        # Marking centromere on the left:\\n        self.plot[\\'chromosome\\'] += (\\'<path d=\"M %s %s C %s %s, %s %s, %s %s C %s %s, %s %s, %s %s Z\" style=\"stroke-width:2;stroke:white;\" fill=\"white\"/>\\\\n\\' %\\n                  ( self.__adjust_coord(0, start_y) +\\n                    self.__adjust_coord(0, (start_y+end_y)/2) +\\n                    self.__adjust_coord((end_y-start_y), (start_y+end_y)/2) +\\n                    self.__adjust_coord((end_y-start_y)*2, (start_y+end_y)/2) +\\n                    self.__adjust_coord((end_y-start_y), (start_y+end_y)/2) +\\n                    self.__adjust_coord(0, (start_y+end_y)/2) +\\n                    self.__adjust_coord(0, end_y )))\\n\\n        # Marking centromoere on the right:\\n        self.plot[\\'chromosome\\'] += (\\'<path d=\"M %s %s C %s %s, %s %s, %s %s C %s %s, %s %s, %s %s Z\" style=\"stroke-width:2;stroke:white;\" fill=\"white\"/>\\\\n\\' %\\n                  ( self.__adjust_coord(self.width+1, start_y) +\\n                    self.__adjust_coord(self.width+1, (start_y+end_y)/2) +\\n                    self.__adjust_coord(self.width+1-(end_y-start_y), (start_y+end_y)/2) +\\n                    self.__adjust_coord(self.width+1-(end_y-start_y)*2, (start_y+end_y)/2) +\\n                    self.__adjust_coord(self.width+1-(end_y-start_y), (start_y+end_y)/2) +\\n                    self.__adjust_coord(self.width+1, (start_y+end_y)/2) +\\n                    self.__adjust_coord(self.width+1, end_y)))\\n\\n    def __rotate(self, x, y, angle, scale=1):\\n        return (int((x * math.cos(angle) - y * math.sin(angle))*scale),\\n                int((x * math.sin(angle) + y * math.cos(angle))*scale))\\n\\n    # Close svg document:\\n    def __close(self):\\n        self.plot[\\'close\\'] = \\'</svg>\\\\n\\'\\n\\n    # Drawing the cytoband ruler next to the chromosome:\\n    def draw_cytoband(self, row):\\n        \\n        # If the cband key exists, then get deleted.\\n        if not \\'cytoband\\' in self.plot:\\n            self.plot[\\'cytoband\\'] = \\'\\'\\n\\n        (x1,y1) = self.__adjust_coord(row[\\'x\\'],row[\\'y1\\'])\\n        (x2,y2) = self.__adjust_coord(row[\\'x\\'],row[\\'y2\\'])\\n\\n        # Centromeres are plotted as triangles facing against each other:\\n        if row[\\'type\\'] == \\'acen\\' and \\'p\\' in row[\\'name\\']:\\n            self.plot[\\'cytoband\\'] += (\\'<polygon points=\"%s,%s %s,%s %s,%s\" style=\"fill:%s;stroke:%s;stroke-width:%s;fill-rule:nonzero;\" />\\\\n\\' %\\n                  (self.cband_x1, y1, self.cband_x1 + self.cband_width, y1, (2 * self.cband_x1 + self.cband_width) / 2 , \\n                   y2, self.cband_colors[row[\\'type\\']], self.cband_colors[\\'border\\'], self.pixel/2))\\n        elif row[\\'type\\'] == \\'acen\\' and \\'q\\' in row[\\'name\\']:\\n            self.plot[\\'cytoband\\'] += (\\'<polygon points=\"%s,%s %s,%s %s,%s\" style=\"fill:%s;stroke:%s;stroke-width:%s;fill-rule:nonzero;\" />\\\\n\\' %\\n                  (self.cband_x1, y2, self.cband_x1 + self.cband_width, y2, (2 * self.cband_x1 + self.cband_width) / 2, \\n                   y1, self.cband_colors[row[\\'type\\']], self.cband_colors[\\'border\\'], self.pixel/2))\\n\\n        # Regular bands are plotted as rectangles, where the fill color is set based on the type of the band:\\n        else:\\n            self.plot[\\'cytoband\\'] += (\\'<rect x=\"%s\" y=\"%s\" width=\"%s\" height=\"%s\" style=\"stroke-width:%s;stroke:%s; fill: %s\" />\\\\n\\' %\\n                (self.cband_x1, y1, self.cband_width , y2 - y1, self.pixel/2,\\n                 self.cband_colors[\\'border\\'], self.cband_colors[row[\\'type\\']]))\\n\\n        # Adding the name of the band:\\n        if row[\\'type\\'] != \\'acen\\':\\n            self.plot[\\'cytoband\\'] += (\\'<text x=\"%s\" y=\"%s\" text-anchor=\"end\" font-family=\"sans-serif\" font-size=\"%spx\" fill=\"%s\">%s</text>\\' %\\n                 (self.cband_x1*0.8, y1 + (y2 - y1)/2, self.cband_font, self.cband_colors[\\'border\\'], row[\\'name\\']))\\n\\n    # Deleting a specified key from the svg dictionary:\\n    def delete_key(self, keyname):\\n        if keyname in self.plot:\\n            print(\\'[Warning] Deleting %s from the svg object.\\' % keyname)\\n            del self.plot[keyname]\\n        else:\\n            print(\\'[Warning] The submitted key (%s) does not exist in the svg object.\\' % keyname)\\n\\n    # Combine svg chunks into a single svg file in an ordered fashion:\\n    def __combine_svg(self):\\n        svg_object_order = [\\'header\\', \\'chromosome\\', \\'cytoband\\', \\n                           \\'GWAS\\', \\'assoc\\', \\'close\\']\\n        self.svg = \\'\\'\\n        for svg_obj in svg_object_order:\\n            if svg_obj in self.plot:\\n                self.svg += self.plot[svg_obj]\\n            else:\\n                print(\"[Warning] %s is missing from the plot object! Will be skipped\" %(svg_obj))\\n\\n    # Save svg file:\\n    def save_svg(self, file_name):\\n        file_object  = open(file_name, \\'w\\')\\n        file_object.write(self.svg)\\n        file_object.close()\\n        \\n    # Render png file:\\n    def save_png(self, file_name):\\n        self.__combine_svg()\\n        cairosvg.svg2png(bytestring=self.svg, write_to=file_name)\\n        return(self.plot)\\n\\n    \\n\\'\\'\\'\\nRunning the script:\\n\\'\\'\\'\\noutputFileName = outputDir +(\"/cicaful\")\\ncytoband_color = \\'#999999\\'\\n\\n# Initialize plot:\\npixel = 20\\nplot = SVG_plot(chr_dataf.x.max(), chr_dataf.y.max(), pixel, margins = [35, 35, 35, 35], plot = plot_svg)\\nGWAS_df.sample(frac = 0.20).apply(plot.add_assoc, axis = 1 )\\n\\nprint(\"[Info %s] Adding cytoband ruler.\" %(get_now()))\\nplot.plot[\\'cytoband\\'] = \\'\\'\\ncyb_df.loc[cyb_df.chr == chromosome].apply(plot.draw_cytoband, axis = 1)\\n\\nprint(\"[Info %s] Saving png file..\" % (get_now()))\\nplot_svg = plot.save_png(outputFileName + \".png\")'\u001b[0m\u001b[0;34m)\u001b[0m\u001b[0;34m\u001b[0m\u001b[0m\n\u001b[0m",
      "\u001b[0;32m/Users/ds26/anaconda/lib/python3.6/site-packages/IPython/core/interactiveshell.py\u001b[0m in \u001b[0;36mrun_cell_magic\u001b[0;34m(self, magic_name, line, cell)\u001b[0m\n\u001b[1;32m   2113\u001b[0m             \u001b[0mmagic_arg_s\u001b[0m \u001b[0;34m=\u001b[0m \u001b[0mself\u001b[0m\u001b[0;34m.\u001b[0m\u001b[0mvar_expand\u001b[0m\u001b[0;34m(\u001b[0m\u001b[0mline\u001b[0m\u001b[0;34m,\u001b[0m \u001b[0mstack_depth\u001b[0m\u001b[0;34m)\u001b[0m\u001b[0;34m\u001b[0m\u001b[0m\n\u001b[1;32m   2114\u001b[0m             \u001b[0;32mwith\u001b[0m \u001b[0mself\u001b[0m\u001b[0;34m.\u001b[0m\u001b[0mbuiltin_trap\u001b[0m\u001b[0;34m:\u001b[0m\u001b[0;34m\u001b[0m\u001b[0m\n\u001b[0;32m-> 2115\u001b[0;31m                 \u001b[0mresult\u001b[0m \u001b[0;34m=\u001b[0m \u001b[0mfn\u001b[0m\u001b[0;34m(\u001b[0m\u001b[0mmagic_arg_s\u001b[0m\u001b[0;34m,\u001b[0m \u001b[0mcell\u001b[0m\u001b[0;34m)\u001b[0m\u001b[0;34m\u001b[0m\u001b[0m\n\u001b[0m\u001b[1;32m   2116\u001b[0m             \u001b[0;32mreturn\u001b[0m \u001b[0mresult\u001b[0m\u001b[0;34m\u001b[0m\u001b[0m\n\u001b[1;32m   2117\u001b[0m \u001b[0;34m\u001b[0m\u001b[0m\n",
      "\u001b[0;32m<decorator-gen-122>\u001b[0m in \u001b[0;36mbell\u001b[0;34m(self, line, cell)\u001b[0m\n",
      "\u001b[0;32m/Users/ds26/anaconda/lib/python3.6/site-packages/IPython/core/magic.py\u001b[0m in \u001b[0;36m<lambda>\u001b[0;34m(f, *a, **k)\u001b[0m\n\u001b[1;32m    186\u001b[0m     \u001b[0;31m# but it's overkill for just that one bit of state.\u001b[0m\u001b[0;34m\u001b[0m\u001b[0;34m\u001b[0m\u001b[0m\n\u001b[1;32m    187\u001b[0m     \u001b[0;32mdef\u001b[0m \u001b[0mmagic_deco\u001b[0m\u001b[0;34m(\u001b[0m\u001b[0marg\u001b[0m\u001b[0;34m)\u001b[0m\u001b[0;34m:\u001b[0m\u001b[0;34m\u001b[0m\u001b[0m\n\u001b[0;32m--> 188\u001b[0;31m         \u001b[0mcall\u001b[0m \u001b[0;34m=\u001b[0m \u001b[0;32mlambda\u001b[0m \u001b[0mf\u001b[0m\u001b[0;34m,\u001b[0m \u001b[0;34m*\u001b[0m\u001b[0ma\u001b[0m\u001b[0;34m,\u001b[0m \u001b[0;34m**\u001b[0m\u001b[0mk\u001b[0m\u001b[0;34m:\u001b[0m \u001b[0mf\u001b[0m\u001b[0;34m(\u001b[0m\u001b[0;34m*\u001b[0m\u001b[0ma\u001b[0m\u001b[0;34m,\u001b[0m \u001b[0;34m**\u001b[0m\u001b[0mk\u001b[0m\u001b[0;34m)\u001b[0m\u001b[0;34m\u001b[0m\u001b[0m\n\u001b[0m\u001b[1;32m    189\u001b[0m \u001b[0;34m\u001b[0m\u001b[0m\n\u001b[1;32m    190\u001b[0m         \u001b[0;32mif\u001b[0m \u001b[0mcallable\u001b[0m\u001b[0;34m(\u001b[0m\u001b[0marg\u001b[0m\u001b[0;34m)\u001b[0m\u001b[0;34m:\u001b[0m\u001b[0;34m\u001b[0m\u001b[0m\n",
      "\u001b[0;32m/Users/ds26/anaconda/lib/python3.6/site-packages/ipython_bell/bell.py\u001b[0m in \u001b[0;36mbell\u001b[0;34m(self, line, cell)\u001b[0m\n\u001b[1;32m     57\u001b[0m             \u001b[0mexception\u001b[0m \u001b[0;34m=\u001b[0m \u001b[0moutput\u001b[0m\u001b[0;34m.\u001b[0m\u001b[0merror_in_exec\u001b[0m\u001b[0;34m\u001b[0m\u001b[0m\n\u001b[1;32m     58\u001b[0m             \u001b[0mtitle\u001b[0m \u001b[0;34m=\u001b[0m \u001b[0;34m'{} in IPython Task'\u001b[0m\u001b[0;34m.\u001b[0m\u001b[0mformat\u001b[0m\u001b[0;34m(\u001b[0m\u001b[0mexception\u001b[0m\u001b[0;34m.\u001b[0m\u001b[0m__class__\u001b[0m\u001b[0;34m.\u001b[0m\u001b[0m__name__\u001b[0m\u001b[0;34m)\u001b[0m\u001b[0;34m\u001b[0m\u001b[0m\n\u001b[0;32m---> 59\u001b[0;31m             \u001b[0mtext\u001b[0m \u001b[0;34m=\u001b[0m \u001b[0mexception\u001b[0m\u001b[0;34m.\u001b[0m\u001b[0mmessage\u001b[0m\u001b[0;34m\u001b[0m\u001b[0m\n\u001b[0m\u001b[1;32m     60\u001b[0m \u001b[0;34m\u001b[0m\u001b[0m\n\u001b[1;32m     61\u001b[0m         \u001b[0mmethod_name\u001b[0m \u001b[0;34m=\u001b[0m \u001b[0mmethod_for_platform\u001b[0m\u001b[0;34m.\u001b[0m\u001b[0mget\u001b[0m\u001b[0;34m(\u001b[0m\u001b[0mplatform\u001b[0m\u001b[0;34m.\u001b[0m\u001b[0msystem\u001b[0m\u001b[0;34m(\u001b[0m\u001b[0;34m)\u001b[0m\u001b[0;34m)\u001b[0m\u001b[0;34m\u001b[0m\u001b[0m\n",
      "\u001b[0;31mAttributeError\u001b[0m: 'NameError' object has no attribute 'message'"
     ]
    }
   ],
   "source": [
    "%%bell\n",
    "\n",
    "# The svg class \n",
    "import cairosvg\n",
    "import math\n",
    "import sys\n",
    "\n",
    "class SVG_plot:\n",
    "    '''\n",
    "    This class contains all the methods and data to create the genome plot in svg format.\n",
    "    Once the process is done, use can choose to save the svg or render using cairosvg.\n",
    "\n",
    "    margins = array of four integers corresponding to the left, upper, right and bottom margin.\n",
    "\n",
    "    At this point the function won't check if the arguments are correct.\n",
    "    '''\n",
    "\n",
    "    def __init__(self, width, height, pixel, margins = [0,0,0,0], plot = {}):\n",
    "\n",
    "        # Testing if margins are proper:\n",
    "        try:\n",
    "            self.margins = [ int(x * pixel) for x in margins]\n",
    "        except:\n",
    "            sys.exit(\"[Error] Margins were not properly formatted! Expecting an array of four floats.\")\n",
    "\n",
    "        self.width = width\n",
    "        self.height = height\n",
    "        self.pixel = pixel\n",
    "\n",
    "        # Constants for the cytobnand plot:\n",
    "        self.cband_x1 = self.margins[0] - 9 * pixel # right coordiante of the band\n",
    "        self.cband_x2 = self.margins[0] - 15 * pixel # left coordinate of the band \n",
    "        self.cband_width = (self.cband_x1 - self.cband_x2) # width of the band\n",
    "        self.cband_colors = {\n",
    "            'gneg'    : '#FFFFFF', # White\n",
    "            'gpos25'  : '#E5E5E5', # Gray90\n",
    "            'gpos50'  : '#CCCCCC', # Gray80\n",
    "            'gpos75'  : '#B3B3B3', # Gray70\n",
    "            'gpos100' : '#999999', # Gray60\n",
    "            'acen'    : '#CCCCCC', # Gray80\n",
    "            'gvar'    : '#999999', # Gray60\n",
    "            'stalk'   : '#E5E5E5', # Gray90\n",
    "            'border'  : '#999999'  # Gray90\n",
    "        }\n",
    "        self.cband_stroke = self.pixel * 0.2\n",
    "        self.cband_font = self.pixel * 8\n",
    "        \n",
    "        # constants for the star:\n",
    "        self.star_scale = pixel * 2\n",
    "        self.star_line = pixel / 5\n",
    "        self.star_color = \"#E25FDA\"\n",
    "        self.star_line_color = \"white\"\n",
    "        \n",
    "        # This is a scaled star for plotting custom annotation:\n",
    "        self.star = [e for ts in zip([self.__rotate(0, self.star_scale, math.radians(alpha*36)) for alpha in range(0,9,2)],\n",
    "                                    [self.__rotate(0, self.star_scale, math.radians(alpha*36), 1.7) for alpha in range(1,10,2)],) for e in ts]\n",
    "\n",
    "        # the plot is initialized unless it's submitted:\n",
    "        if not 'header' in plot.keys():\n",
    "            self.plot = { 'header' : '<svg width=\"%s\" height=\"%s\">\\n' % (width*pixel + self.margins[0] + self.margins[2], \n",
    "                                                                         height*pixel + self.margins[1] + self.margins[3])}\n",
    "        else:\n",
    "            self.plot = plot\n",
    "\n",
    "        # generating closing tag:\n",
    "        self.__close()\n",
    "\n",
    "    def __adjust_coord(self, x, y):\n",
    "        ''' This simple function just sifts the coordinates by the margins and corrects for the pixel size.'''\n",
    "        return (int(x*self.pixel + self.margins[0]),\n",
    "                int(y*self.pixel + self.margins[1]))\n",
    "\n",
    "    def add_assoc(self, row):\n",
    "        ''' Adding a star to the polt and the rsID and trait... once later'''\n",
    "        (x,y) = self.__adjust_coord(row['x'], row['y'])\n",
    "\n",
    "        # Initializing the association string:\n",
    "        if not 'assoc' in self.plot.keys(): self.plot['assoc'] = '' \n",
    "\n",
    "        # Offsetting the star:\n",
    "        self.plot['assoc'] += ('<polygon stroke=\"%s\" fill=\"%s\" stroke-width=\"%s\" points=\"%s\" />\\n' % (\n",
    "                              self.star_line_color, self.star_color, self.star_line, \n",
    "                               \" \".join([\",\".join([str(x + a[0] + self.pixel/2),str(y+a[1] + self.pixel/2)]) for a in self.star])))\n",
    "        \n",
    "        # Adding annotation:\n",
    "        # to be implemented.... not yet there...\n",
    "\n",
    "    def draw_chunk(self, row, y_scale = 1, y_shift = 0):\n",
    "        '''\n",
    "        This function expects a row of a dataframe in which there must be the\n",
    "        following three columns:\n",
    "            x - column number\n",
    "            y - row number\n",
    "            color - color of the field in hexadecimal code.\n",
    "            \n",
    "        y_scale: the pre-defined pixel size will be scaled by this factor.\n",
    "        y_sihft: the box will be shifted on the y axis by this factor (in pixel)\n",
    "        '''\n",
    "        (x,y) = self.__adjust_coord(row['x'],row['y'])\n",
    "        color = row['color']\n",
    "        \n",
    "        # Initializing the association string:\n",
    "        if not 'chromosome' in self.plot.keys(): self.plot['chromosome'] = '' \n",
    "        \n",
    "        # Drawing chromosome:\n",
    "        self.plot['chromosome'] += ('<rect x=\"%s\" y=\"%s\" width=\"%s\" height=\"%s\" style=\"stroke-width:1;stroke:%s; fill: %s\" />\\n' %\n",
    "            (x, (y + self.pixel * y_shift), self.pixel , self.pixel * y_scale, color, color))\n",
    "\n",
    "    def draw_GWAS(self, row):\n",
    "        (x,y) = self.__adjust_coord(row['x'],row['y'])\n",
    "        \n",
    "        # Initializing the association string:\n",
    "        if not 'GWAS' in self.plot.keys(): self.plot['GWAS'] = '' \n",
    "        \n",
    "        self.plot['GWAS'] += ('<circle cx=\"%s\" cy=\"%s\" r=\"%s\" stroke=\"%s\" stroke-width=\"1\" fill=\"%s\" />\\n' %\n",
    "            (x + self.pixel/2, y + self.pixel/2, self.pixel * 0.75, \"black\", \"black\"))\n",
    "\n",
    "    def mark_centromere(self, centr_start, centr_end):\n",
    "\n",
    "        # calculating the y coordinates of the centromeres based on the chunk count:\n",
    "        start_y = int(centr_start / self.width)\n",
    "        end_y = int(centr_end / self.width)\n",
    "\n",
    "        # Marking centromere on the left:\n",
    "        self.plot['chromosome'] += ('<path d=\"M %s %s C %s %s, %s %s, %s %s C %s %s, %s %s, %s %s Z\" style=\"stroke-width:2;stroke:white;\" fill=\"white\"/>\\n' %\n",
    "                  ( self.__adjust_coord(0, start_y) +\n",
    "                    self.__adjust_coord(0, (start_y+end_y)/2) +\n",
    "                    self.__adjust_coord((end_y-start_y), (start_y+end_y)/2) +\n",
    "                    self.__adjust_coord((end_y-start_y)*2, (start_y+end_y)/2) +\n",
    "                    self.__adjust_coord((end_y-start_y), (start_y+end_y)/2) +\n",
    "                    self.__adjust_coord(0, (start_y+end_y)/2) +\n",
    "                    self.__adjust_coord(0, end_y )))\n",
    "\n",
    "        # Marking centromoere on the right:\n",
    "        self.plot['chromosome'] += ('<path d=\"M %s %s C %s %s, %s %s, %s %s C %s %s, %s %s, %s %s Z\" style=\"stroke-width:2;stroke:white;\" fill=\"white\"/>\\n' %\n",
    "                  ( self.__adjust_coord(self.width+1, start_y) +\n",
    "                    self.__adjust_coord(self.width+1, (start_y+end_y)/2) +\n",
    "                    self.__adjust_coord(self.width+1-(end_y-start_y), (start_y+end_y)/2) +\n",
    "                    self.__adjust_coord(self.width+1-(end_y-start_y)*2, (start_y+end_y)/2) +\n",
    "                    self.__adjust_coord(self.width+1-(end_y-start_y), (start_y+end_y)/2) +\n",
    "                    self.__adjust_coord(self.width+1, (start_y+end_y)/2) +\n",
    "                    self.__adjust_coord(self.width+1, end_y)))\n",
    "\n",
    "    def __rotate(self, x, y, angle, scale=1):\n",
    "        return (int((x * math.cos(angle) - y * math.sin(angle))*scale),\n",
    "                int((x * math.sin(angle) + y * math.cos(angle))*scale))\n",
    "\n",
    "    # Close svg document:\n",
    "    def __close(self):\n",
    "        self.plot['close'] = '</svg>\\n'\n",
    "\n",
    "    # Drawing the cytoband ruler next to the chromosome:\n",
    "    def draw_cytoband(self, row):\n",
    "        \n",
    "        # If the cband key exists, then get deleted.\n",
    "        if not 'cytoband' in self.plot:\n",
    "            self.plot['cytoband'] = ''\n",
    "\n",
    "        (x1,y1) = self.__adjust_coord(row['x'],row['y1'])\n",
    "        (x2,y2) = self.__adjust_coord(row['x'],row['y2'])\n",
    "\n",
    "        # Centromeres are plotted as triangles facing against each other:\n",
    "        if row['type'] == 'acen' and 'p' in row['name']:\n",
    "            self.plot['cytoband'] += ('<polygon points=\"%s,%s %s,%s %s,%s\" style=\"fill:%s;stroke:%s;stroke-width:%s;fill-rule:nonzero;\" />\\n' %\n",
    "                  (self.cband_x1, y1, self.cband_x1 + self.cband_width, y1, (2 * self.cband_x1 + self.cband_width) / 2 , \n",
    "                   y2, self.cband_colors[row['type']], self.cband_colors['border'], self.pixel/2))\n",
    "        elif row['type'] == 'acen' and 'q' in row['name']:\n",
    "            self.plot['cytoband'] += ('<polygon points=\"%s,%s %s,%s %s,%s\" style=\"fill:%s;stroke:%s;stroke-width:%s;fill-rule:nonzero;\" />\\n' %\n",
    "                  (self.cband_x1, y2, self.cband_x1 + self.cband_width, y2, (2 * self.cband_x1 + self.cband_width) / 2, \n",
    "                   y1, self.cband_colors[row['type']], self.cband_colors['border'], self.pixel/2))\n",
    "\n",
    "        # Regular bands are plotted as rectangles, where the fill color is set based on the type of the band:\n",
    "        else:\n",
    "            self.plot['cytoband'] += ('<rect x=\"%s\" y=\"%s\" width=\"%s\" height=\"%s\" style=\"stroke-width:%s;stroke:%s; fill: %s\" />\\n' %\n",
    "                (self.cband_x1, y1, self.cband_width , y2 - y1, self.pixel/2,\n",
    "                 self.cband_colors['border'], self.cband_colors[row['type']]))\n",
    "\n",
    "        # Adding the name of the band:\n",
    "        if row['type'] != 'acen':\n",
    "            self.plot['cytoband'] += ('<text x=\"%s\" y=\"%s\" text-anchor=\"end\" font-family=\"sans-serif\" font-size=\"%spx\" fill=\"%s\">%s</text>' %\n",
    "                 (self.cband_x1*0.8, y1 + (y2 - y1)/2, self.cband_font, self.cband_colors['border'], row['name']))\n",
    "\n",
    "    # Deleting a specified key from the svg dictionary:\n",
    "    def delete_key(self, keyname):\n",
    "        if keyname in self.plot:\n",
    "            print('[Warning] Deleting %s from the svg object.' % keyname)\n",
    "            del self.plot[keyname]\n",
    "        else:\n",
    "            print('[Warning] The submitted key (%s) does not exist in the svg object.' % keyname)\n",
    "\n",
    "    # Combine svg chunks into a single svg file in an ordered fashion:\n",
    "    def __combine_svg(self):\n",
    "        svg_object_order = ['header', 'chromosome', 'cytoband', \n",
    "                           'GWAS', 'assoc', 'close']\n",
    "        self.svg = ''\n",
    "        for svg_obj in svg_object_order:\n",
    "            if svg_obj in self.plot:\n",
    "                self.svg += self.plot[svg_obj]\n",
    "            else:\n",
    "                print(\"[Warning] %s is missing from the plot object! Will be skipped\" %(svg_obj))\n",
    "\n",
    "    # Save svg file:\n",
    "    def save_svg(self, file_name):\n",
    "        file_object  = open(file_name, 'w')\n",
    "        file_object.write(self.svg)\n",
    "        file_object.close()\n",
    "        \n",
    "    # Render png file:\n",
    "    def save_png(self, file_name):\n",
    "        self.__combine_svg()\n",
    "        cairosvg.svg2png(bytestring=self.svg, write_to=file_name)\n",
    "        return(self.plot)\n",
    "\n",
    "    \n",
    "'''\n",
    "Running the script:\n",
    "'''\n",
    "outputFileName = outputDir +(\"/cicaful\")\n",
    "cytoband_color = '#999999'\n",
    "\n",
    "# Initialize plot:\n",
    "pixel = 20\n",
    "plot = SVG_plot(chr_dataf.x.max(), chr_dataf.y.max(), pixel, margins = [35, 35, 35, 35], plot = plot_svg)\n",
    "GWAS_df.sample(frac = 0.20).apply(plot.add_assoc, axis = 1 )\n",
    "\n",
    "print(\"[Info %s] Adding cytoband ruler.\" %(get_now()))\n",
    "plot.plot['cytoband'] = ''\n",
    "cyb_df.loc[cyb_df.chr == chromosome].apply(plot.draw_cytoband, axis = 1)\n",
    "\n",
    "print(\"[Info %s] Saving png file..\" % (get_now()))\n",
    "plot_svg = plot.save_png(outputFileName + \".png\")\n"
   ]
  },
  {
   "cell_type": "code",
   "execution_count": 49,
   "metadata": {
    "ExecuteTime": {
     "end_time": "2018-03-21T00:23:57.730177Z",
     "start_time": "2018-03-21T00:23:57.718156Z"
    }
   },
   "outputs": [
    {
     "name": "stdout",
     "output_type": "stream",
     "text": [
      "<polygon stroke=\"black\" fill=\"#E25FDA\" stroke-width=\"4.0\" points=\"5.0,45.0 -34.0,60.0 -33.0,17.0 -59.0,-16.0 -18.0,-27.0 5.0,-63.0 28.0,-27.0 69.0,-16.0 43.0,17.0 44.0,60.0\" />\n",
      "\n"
     ]
    }
   ],
   "source": [
    "print('<polygon stroke=\"%s\" fill=\"%s\" stroke-width=\"%s\" points=\"%s\" />\\n' % (\n",
    "                              'black', plot.star_color, plot.star_line, \n",
    "                               \" \".join([\",\".join([str(a[0] + 10/2),str(a[1] + 10/2)]) for a in plot.star])))\n",
    "\n"
   ]
  },
  {
   "cell_type": "markdown",
   "metadata": {},
   "source": [
    "### Adding gene as annotation\n",
    "\n",
    "\n",
    "```bash\n",
    "cd GenomePlotter/temp\n",
    "genes=\"TPTE KCNE1B SMIM11B\"\n",
    "\n",
    "cat <(echo \"chr start end name id\") <(for gene in ${genes}; do wget -q \"rest.ensembl.org/lookup/symbol/homo_sapiens/${gene}?content-type=application/json\" -O - | jq -r '. |\"\\(.seq_region_name) \\(.start) \\(.end) \\(.display_name) \\(.id)\"'; done | sort -k1,1 -k2,2n ) > genes.txt\n",
    "```\n",
    "\n",
    "```\n",
    "chr  start     end       name     id\n",
    "21   7744962   7777853   SMIM11B  ENSG00000273590\n",
    "21   7816675   7829926   KCNE1B   ENSG00000276289\n",
    "21   10521553  10606140  TPTE     ENSG00000274391\n",
    "```"
   ]
  },
  {
   "cell_type": "code",
   "execution_count": 53,
   "metadata": {},
   "outputs": [
    {
     "data": {
      "text/html": [
       "<div>\n",
       "<table border=\"1\" class=\"dataframe\">\n",
       "  <thead>\n",
       "    <tr style=\"text-align: right;\">\n",
       "      <th></th>\n",
       "      <th>chr</th>\n",
       "      <th>start</th>\n",
       "      <th>end</th>\n",
       "      <th>name</th>\n",
       "      <th>id</th>\n",
       "    </tr>\n",
       "  </thead>\n",
       "  <tbody>\n",
       "    <tr>\n",
       "      <th>0</th>\n",
       "      <td>21</td>\n",
       "      <td>7744962</td>\n",
       "      <td>7777853</td>\n",
       "      <td>SMIM11B</td>\n",
       "      <td>ENSG00000273590</td>\n",
       "    </tr>\n",
       "    <tr>\n",
       "      <th>1</th>\n",
       "      <td>21</td>\n",
       "      <td>7816675</td>\n",
       "      <td>7829926</td>\n",
       "      <td>KCNE1B</td>\n",
       "      <td>ENSG00000276289</td>\n",
       "    </tr>\n",
       "    <tr>\n",
       "      <th>2</th>\n",
       "      <td>21</td>\n",
       "      <td>10521553</td>\n",
       "      <td>10606140</td>\n",
       "      <td>TPTE</td>\n",
       "      <td>ENSG00000274391</td>\n",
       "    </tr>\n",
       "  </tbody>\n",
       "</table>\n",
       "</div>"
      ],
      "text/plain": [
       "   chr     start       end     name               id\n",
       "0   21   7744962   7777853  SMIM11B  ENSG00000273590\n",
       "1   21   7816675   7829926   KCNE1B  ENSG00000276289\n",
       "2   21  10521553  10606140     TPTE  ENSG00000274391"
      ]
     },
     "execution_count": 53,
     "metadata": {},
     "output_type": "execute_result"
    }
   ],
   "source": [
    "# reading gene annotation:\n",
    "genes_df = pd.read_table('temp/genes.txt', sep = \" \")\n",
    "genes_df.head()"
   ]
  },
  {
   "cell_type": "code",
   "execution_count": 71,
   "metadata": {
    "scrolled": false
   },
   "outputs": [
    {
     "name": "stdout",
     "output_type": "stream",
     "text": [
      "[Info 02:10:33] Assigning colors to each chunk in the selected gene.\n",
      "   chrom    start      end     name            score  strand  thickStart  \\\n",
      "0     21  7744962  7777853  SMIM11B  ENSG00000273590      21     7744950   \n",
      "1     21  7744962  7777853  SMIM11B  ENSG00000273590      21     7745400   \n",
      "2     21  7744962  7777853  SMIM11B  ENSG00000273590      21     7745850   \n",
      "3     21  7744962  7777853  SMIM11B  ENSG00000273590      21     7746300   \n",
      "4     21  7744962  7777853  SMIM11B  ENSG00000273590      21     7746750   \n",
      "\n",
      "   thickEnd   itemRgb   x   y GENCODE    color  \n",
      "0   7745400  0.660000  11  86    exon  #edbfff  \n",
      "1   7745850  0.620000  12  86    exon  #eab4ff  \n",
      "2   7746300  0.388889  13  86    gene  #fd75d4  \n",
      "3   7746750  0.437778  14  86    gene  #fd80d8  \n",
      "4   7747200  0.446667  15  86    gene  #fd80d8  \n"
     ]
    }
   ],
   "source": [
    "# Reading the list of genes to be added as extra annotation:\n",
    "genes_df = pd.read_table('temp/genes.txt', sep = \" \")\n",
    "genes_bed = pybedtools.BedTool.from_dataframe(genes_df)\n",
    "\n",
    "# Extracting the chunks overlapping with the genes:\n",
    "genes_Intersect = genes_bed.intersect(chr_data_bed, wa = True, wb = True)\n",
    "genes_Intersect_df = genes_Intersect.to_dataframe()\n",
    "genes_Intersect_df[['x', 'y', 'GENCODE', 'color']] = genes_Intersect_df.apply(lambda x: chr_dataf.loc[x['thickStart']][['x', 'y', 'GENCODE', 'color']], axis =1)\n",
    "\n",
    "# Assigning colors to the selected dataframe:\n",
    "gene_select_color = {\n",
    "    'gene'   : linear_gradient('#FD25BC', n=20),\n",
    "    'exon'   : linear_gradient('#DAF7A6', n=20)\n",
    "}\n",
    "\n",
    "print(\"[Info %s] Assigning colors to each chunk in the selected gene.\" % (get_now()))\n",
    "genes_Intersect_df['color'] = genes_Intersect_df.apply(lambda x: gene_select_color[x['GENCODE']][int(x['itemRgb']*20)], axis = 1)\n",
    "genes_Intersect_df['color'] = genes_Intersect_df.apply(color_darkener, axis = 1, args=(width, darkStart, darkMax))\n",
    "print(genes_Intersect_df.head())\n"
   ]
  },
  {
   "cell_type": "code",
   "execution_count": 45,
   "metadata": {
    "ExecuteTime": {
     "end_time": "2018-03-18T00:58:25.179988Z",
     "start_time": "2018-03-18T00:58:25.176034Z"
    }
   },
   "outputs": [
    {
     "name": "stdout",
     "output_type": "stream",
     "text": [
      "<rect x=\"520\" y=\"9840\" width=\"120\" height=\"1220\" style=\"stroke-width:1;stroke:#E5E5E5; fill: #FFFFFF\" />\n",
      "<text x=\"416.0\" y=\"10450.0\" text-anchor=\"end\" font-family=\"sans-serif\" font-size=\"50px\" fill=\"#E5E5E5\">q22.3</text>\n"
     ]
    }
   ],
   "source": [
    "print(plot.plot['cytoband'])"
   ]
  },
  {
   "cell_type": "code",
   "execution_count": 50,
   "metadata": {
    "ExecuteTime": {
     "end_time": "2018-03-21T00:40:16.077221Z",
     "start_time": "2018-03-21T00:40:16.014696Z"
    },
    "collapsed": true
   },
   "outputs": [],
   "source": [
    "plot.save_svg(\"Test_chr9.svg\")"
   ]
  },
  {
   "cell_type": "markdown",
   "metadata": {},
   "source": [
    "## New approach\n",
    "\n",
    "We need to design a new approach to make the assembly and the design of the plot faster and more reliable.\n",
    "\n",
    "**The plot:**\n",
    "\n",
    "* We are going to use `g` and `use` tags all along.\n",
    "* The biggest chunk is always the chromosomes with the GWAS signals. These will be pre-complied and stored as txt.\n",
    "* This part of the svg figure is read from the file into a string.\n",
    "* I could not find any converters that handles `style` tags in svg-s, so there's no way to quickly change the colors of the chromosome... I guess, we just stick with what we have.\n",
    "* "
   ]
  },
  {
   "cell_type": "code",
   "execution_count": 1,
   "metadata": {
    "ExecuteTime": {
     "end_time": "2018-04-14T01:06:38.342871Z",
     "start_time": "2018-04-14T01:06:38.334272Z"
    }
   },
   "outputs": [
    {
     "name": "stderr",
     "output_type": "stream",
     "text": [
      "ERROR:root:Cell magic `%%bell` not found.\n"
     ]
    }
   ],
   "source": [
    "%%bell\n",
    "\n",
    "\n",
    "class DRAW_chromosome:\n",
    "    \n",
    "    \n",
    "    def __init__(self, width, height, pixel, ):\n",
    "        \n",
    "        \n",
    "    '''....'''    \n",
    "    \n",
    "    def __add_def(self, ID, svg_string):\n",
    "        '''\n",
    "        This function adds an other <g> object to the <defs> section of the \n",
    "        svg object.\n",
    "        \n",
    "        Until the whole object is saved, all the definitions will be stored in a\n",
    "        dictionary\n",
    "        '''\n",
    "        \n",
    "        if 'defs' in self:\n",
    "            self['defs'][ID] = svg_string\n",
    "        else:\n",
    "            self['defs'] = {}\n",
    "            self['defs'][ID] = svg_string\n",
    "\n",
    "\n",
    "# The svg class \n",
    "import cairosvg\n",
    "import math\n",
    "import sys\n",
    "\n",
    "class SVG_plot:\n",
    "    '''\n",
    "    This class contains all the methods and data to create the genome plot in svg format.\n",
    "    Once the process is done, use can choose to save the svg or render using cairosvg.\n",
    "\n",
    "    margins = array of four integers corresponding to the left, upper, right and bottom margin.\n",
    "\n",
    "    At this point the function won't check if the arguments are correct.\n",
    "    '''\n",
    "\n",
    "    def __init__(self, width, height, pixel, margins = [0,0,0,0], plot = {}):\n",
    "\n",
    "        # Testing if margins are proper:\n",
    "        try:\n",
    "            self.margins = [ int(x * pixel) for x in margins]\n",
    "        except:\n",
    "            sys.exit(\"[Error] Margins were not properly formatted! Expecting an array of four floats.\")\n",
    "\n",
    "        self.width = width\n",
    "        self.height = height\n",
    "        self.pixel = pixel\n",
    "\n",
    "        # Constants for the cytobnand plot:\n",
    "        self.cband_x1 = self.margins[0] - 9 * pixel # right coordiante of the band\n",
    "        self.cband_x2 = self.margins[0] - 15 * pixel # left coordinate of the band \n",
    "        self.cband_width = (self.cband_x1 - self.cband_x2) # width of the band\n",
    "        self.cband_colors = {\n",
    "            'gneg'    : '#FFFFFF', # White\n",
    "            'gpos25'  : '#E5E5E5', # Gray90\n",
    "            'gpos50'  : '#CCCCCC', # Gray80\n",
    "            'gpos75'  : '#B3B3B3', # Gray70\n",
    "            'gpos100' : '#999999', # Gray60\n",
    "            'acen'    : '#CCCCCC', # Gray80\n",
    "            'gvar'    : '#999999', # Gray60\n",
    "            'stalk'   : '#E5E5E5', # Gray90\n",
    "            'border'  : '#999999'  # Gray90\n",
    "        }\n",
    "        self.cband_stroke = self.pixel * 0.2\n",
    "        self.cband_font = self.pixel * 8\n",
    "        \n",
    "        # constants for the star:\n",
    "        self.star_scale = pixel * 2\n",
    "        self.star_line = pixel / 5\n",
    "        self.star_color = \"#E25FDA\"\n",
    "        self.star_line_color = \"white\"\n",
    "        \n",
    "        # This is a scaled star for plotting custom annotation:\n",
    "        self.star = [e for ts in zip([self.__rotate(0, self.star_scale, math.radians(alpha*36)) for alpha in range(0,9,2)],\n",
    "                                    [self.__rotate(0, self.star_scale, math.radians(alpha*36), 1.7) for alpha in range(1,10,2)],) for e in ts]\n",
    "\n",
    "        # the plot is initialized unless it's submitted:\n",
    "        if not 'header' in plot.keys():\n",
    "            self.plot = { 'header' : '<svg width=\"%s\" height=\"%s\">\\n' % (width*pixel + self.margins[0] + self.margins[2], \n",
    "                                                                         height*pixel + self.margins[1] + self.margins[3])}\n",
    "        else:\n",
    "            self.plot = plot\n",
    "\n",
    "        # generating closing tag:\n",
    "        self.__close()\n",
    "\n",
    "    def __adjust_coord(self, x, y):\n",
    "        ''' This simple function just sifts the coordinates by the margins and corrects for the pixel size.'''\n",
    "        return (int(x*self.pixel + self.margins[0]),\n",
    "                int(y*self.pixel + self.margins[1]))\n",
    "\n",
    "    def add_assoc(self, row):\n",
    "        ''' Adding a star to the polt and the rsID and trait... once later'''\n",
    "        (x,y) = self.__adjust_coord(row['x'], row['y'])\n",
    "\n",
    "        # Initializing the association string:\n",
    "        if not 'assoc' in self.plot.keys(): self.plot['assoc'] = '' \n",
    "\n",
    "        # Offsetting the star:\n",
    "        self.plot['assoc'] += ('<polygon stroke=\"%s\" fill=\"%s\" stroke-width=\"%s\" points=\"%s\" />\\n' % (\n",
    "                              self.star_line_color, self.star_color, self.star_line, \n",
    "                               \" \".join([\",\".join([str(x + a[0] + self.pixel/2),str(y+a[1] + self.pixel/2)]) for a in self.star])))\n",
    "        \n",
    "        # Adding annotation:\n",
    "        # to be implemented.... not yet there...\n",
    "\n",
    "    def draw_chunk(self, row, y_scale = 1, y_shift = 0):\n",
    "        '''\n",
    "        This function expects a row of a dataframe in which there must be the\n",
    "        following three columns:\n",
    "            x - column number\n",
    "            y - row number\n",
    "            color - color of the field in hexadecimal code.\n",
    "            \n",
    "        y_scale: the pre-defined pixel size will be scaled by this factor.\n",
    "        y_sihft: the box will be shifted on the y axis by this factor (in pixel)\n",
    "        '''\n",
    "        (x,y) = self.__adjust_coord(row['x'],row['y'])\n",
    "        color = row['color']\n",
    "        \n",
    "        # Initializing the association string:\n",
    "        if not 'chromosome' in self.plot.keys(): self.plot['chromosome'] = '' \n",
    "        \n",
    "        # Drawing chromosome:\n",
    "        self.plot['chromosome'] += ('<rect x=\"%s\" y=\"%s\" width=\"%s\" height=\"%s\" style=\"stroke-width:1;stroke:%s; fill: %s\" />\\n' %\n",
    "            (x, (y + self.pixel * y_shift), self.pixel , self.pixel * y_scale, color, color))\n",
    "\n",
    "    def draw_GWAS(self, row):\n",
    "        (x,y) = self.__adjust_coord(row['x'],row['y'])\n",
    "        \n",
    "        # Initializing the association string:\n",
    "        if not 'GWAS' in self.plot.keys(): self.plot['GWAS'] = '' \n",
    "        \n",
    "        self.plot['GWAS'] += ('<circle cx=\"%s\" cy=\"%s\" r=\"%s\" stroke=\"%s\" stroke-width=\"1\" fill=\"%s\" />\\n' %\n",
    "            (x + self.pixel/2, y + self.pixel/2, self.pixel * 0.75, \"black\", \"black\"))\n",
    "\n",
    "    def mark_centromere(self, centr_start, centr_end):\n",
    "\n",
    "        # calculating the y coordinates of the centromeres based on the chunk count:\n",
    "        start_y = int(centr_start / self.width)\n",
    "        end_y = int(centr_end / self.width)\n",
    "\n",
    "        # Marking centromere on the left:\n",
    "        self.plot['chromosome'] += ('<path d=\"M %s %s C %s %s, %s %s, %s %s C %s %s, %s %s, %s %s Z\" style=\"stroke-width:2;stroke:white;\" fill=\"white\"/>\\n' %\n",
    "                  ( self.__adjust_coord(0, start_y) +\n",
    "                    self.__adjust_coord(0, (start_y+end_y)/2) +\n",
    "                    self.__adjust_coord((end_y-start_y), (start_y+end_y)/2) +\n",
    "                    self.__adjust_coord((end_y-start_y)*2, (start_y+end_y)/2) +\n",
    "                    self.__adjust_coord((end_y-start_y), (start_y+end_y)/2) +\n",
    "                    self.__adjust_coord(0, (start_y+end_y)/2) +\n",
    "                    self.__adjust_coord(0, end_y )))\n",
    "\n",
    "        # Marking centromoere on the right:\n",
    "        self.plot['chromosome'] += ('<path d=\"M %s %s C %s %s, %s %s, %s %s C %s %s, %s %s, %s %s Z\" style=\"stroke-width:2;stroke:white;\" fill=\"white\"/>\\n' %\n",
    "                  ( self.__adjust_coord(self.width+1, start_y) +\n",
    "                    self.__adjust_coord(self.width+1, (start_y+end_y)/2) +\n",
    "                    self.__adjust_coord(self.width+1-(end_y-start_y), (start_y+end_y)/2) +\n",
    "                    self.__adjust_coord(self.width+1-(end_y-start_y)*2, (start_y+end_y)/2) +\n",
    "                    self.__adjust_coord(self.width+1-(end_y-start_y), (start_y+end_y)/2) +\n",
    "                    self.__adjust_coord(self.width+1, (start_y+end_y)/2) +\n",
    "                    self.__adjust_coord(self.width+1, end_y)))\n",
    "\n",
    "    def __rotate(self, x, y, angle, scale=1):\n",
    "        return (int((x * math.cos(angle) - y * math.sin(angle))*scale),\n",
    "                int((x * math.sin(angle) + y * math.cos(angle))*scale))\n",
    "\n",
    "    # Close svg document:\n",
    "    def __close(self):\n",
    "        self.plot['close'] = '</svg>\\n'\n",
    "\n",
    "    # Drawing the cytoband ruler next to the chromosome:\n",
    "    def draw_cytoband(self, row):\n",
    "        \n",
    "        # If the cband key exists, then get deleted.\n",
    "        if not 'cytoband' in self.plot:\n",
    "            self.plot['cytoband'] = ''\n",
    "\n",
    "        (x1,y1) = self.__adjust_coord(row['x'],row['y1'])\n",
    "        (x2,y2) = self.__adjust_coord(row['x'],row['y2'])\n",
    "\n",
    "        # Centromeres are plotted as triangles facing against each other:\n",
    "        if row['type'] == 'acen' and 'p' in row['name']:\n",
    "            self.plot['cytoband'] += ('<polygon points=\"%s,%s %s,%s %s,%s\" style=\"fill:%s;stroke:%s;stroke-width:%s;fill-rule:nonzero;\" />\\n' %\n",
    "                  (self.cband_x1, y1, self.cband_x1 + self.cband_width, y1, (2 * self.cband_x1 + self.cband_width) / 2 , \n",
    "                   y2, self.cband_colors[row['type']], self.cband_colors['border'], self.pixel/2))\n",
    "        elif row['type'] == 'acen' and 'q' in row['name']:\n",
    "            self.plot['cytoband'] += ('<polygon points=\"%s,%s %s,%s %s,%s\" style=\"fill:%s;stroke:%s;stroke-width:%s;fill-rule:nonzero;\" />\\n' %\n",
    "                  (self.cband_x1, y2, self.cband_x1 + self.cband_width, y2, (2 * self.cband_x1 + self.cband_width) / 2, \n",
    "                   y1, self.cband_colors[row['type']], self.cband_colors['border'], self.pixel/2))\n",
    "\n",
    "        # Regular bands are plotted as rectangles, where the fill color is set based on the type of the band:\n",
    "        else:\n",
    "            self.plot['cytoband'] += ('<rect x=\"%s\" y=\"%s\" width=\"%s\" height=\"%s\" style=\"stroke-width:%s;stroke:%s; fill: %s\" />\\n' %\n",
    "                (self.cband_x1, y1, self.cband_width , y2 - y1, self.pixel/2,\n",
    "                 self.cband_colors['border'], self.cband_colors[row['type']]))\n",
    "\n",
    "        # Adding the name of the band:\n",
    "        if row['type'] != 'acen':\n",
    "            self.plot['cytoband'] += ('<text x=\"%s\" y=\"%s\" text-anchor=\"end\" font-family=\"sans-serif\" font-size=\"%spx\" fill=\"%s\">%s</text>' %\n",
    "                 (self.cband_x1*0.8, y1 + (y2 - y1)/2, self.cband_font, self.cband_colors['border'], row['name']))\n",
    "\n",
    "    # Deleting a specified key from the svg dictionary:\n",
    "    def delete_key(self, keyname):\n",
    "        if keyname in self.plot:\n",
    "            print('[Warning] Deleting %s from the svg object.' % keyname)\n",
    "            del self.plot[keyname]\n",
    "        else:\n",
    "            print('[Warning] The submitted key (%s) does not exist in the svg object.' % keyname)\n",
    "\n",
    "    # Combine svg chunks into a single svg file in an ordered fashion:\n",
    "    def __combine_svg(self):\n",
    "        svg_object_order = ['header', 'chromosome', 'cytoband', \n",
    "                           'GWAS', 'assoc', 'close']\n",
    "        self.svg = ''\n",
    "        for svg_obj in svg_object_order:\n",
    "            if svg_obj in self.plot:\n",
    "                self.svg += self.plot[svg_obj]\n",
    "            else:\n",
    "                print(\"[Warning] %s is missing from the plot object! Will be skipped\" %(svg_obj))\n",
    "\n",
    "    # Save svg file:\n",
    "    def save_svg(self, file_name):\n",
    "        file_object  = open(file_name, 'w')\n",
    "        file_object.write(self.svg)\n",
    "        file_object.close()\n",
    "        \n",
    "    # Render png file:\n",
    "    def save_png(self, file_name):\n",
    "        self.__combine_svg()\n",
    "        cairosvg.svg2png(bytestring=self.svg, write_to=file_name)\n",
    "        return(self.plot)"
   ]
  },
  {
   "cell_type": "markdown",
   "metadata": {},
   "source": [
    "# Alternative.... again.\n",
    "\n",
    "\n",
    "OK, this must be really the end...\n",
    "\n",
    "New approach:\n",
    "\n",
    "* Generate chunks as before.\n",
    "* Draw them as before.\n",
    "* Read cytoband file.\n",
    "* Add centromere.\n",
    "* read GWAS file, add dots.\n",
    "* Save as a compressed text and svg for testing.\n",
    "\n",
    "\n",
    "This is all wrapped-up in a single `.py` file. Jobs will be uploaded to the farm.\n",
    "These files will be used later"
   ]
  },
  {
   "cell_type": "code",
   "execution_count": null,
   "metadata": {
    "collapsed": true
   },
   "outputs": [],
   "source": []
  }
 ],
 "metadata": {
  "celltoolbar": "Raw Cell Format",
  "kernelspec": {
   "display_name": "Python 3",
   "language": "python",
   "name": "python3"
  },
  "language_info": {
   "codemirror_mode": {
    "name": "ipython",
    "version": 3
   },
   "file_extension": ".py",
   "mimetype": "text/x-python",
   "name": "python",
   "nbconvert_exporter": "python",
   "pygments_lexer": "ipython3",
   "version": "3.7.0"
  }
 },
 "nbformat": 4,
 "nbformat_minor": 1
}
