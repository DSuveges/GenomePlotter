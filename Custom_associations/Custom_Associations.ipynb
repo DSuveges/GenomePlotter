{
 "cells": [
  {
   "cell_type": "markdown",
   "metadata": {},
   "source": [
    "# Preparing custom associations\n",
    "\n",
    "A custom set of associations will be added to the plots. These associations will be extracted from a set of publications listed below. These files will contain the pairs of rsIDs and the associated traits. \n",
    "\n",
    "Publications from which the associations are extracted:\n",
    "\n",
    "* [Whole-Genome Sequencing Coupled to Imputation Discovers Genetic Signals for Anthropometric Traits.](https://www.ncbi.nlm.nih.gov/pubmed/28552196) Anthropometric signals discovered in the UK10K and replicated in the UKBB data. Number of associations extracted: 106, file name: `tachmazidou_2017`\n",
    "* [Genetic characterization of Greek population isolates reveals strong genetic drift at missense and trait-associated variants](http://europepmc.org/articles/PMC4242463) In the Pomak cohort variants on chr11p15.4 showing large allele frequency increases and association with haematological traits. Number of associations extracted: 3, file name: `Panoutsopoulou_2014`\n",
    "* [Identification of new susceptibility loci for osteoarthritis (arcOGEN): a genome-wide association study](http://europepmc.org/abstract/MED/22763110) five genome-wide significant loci and three loci just below this threshold were discovered. File name: `arcOGEN_2012`"
   ]
  },
  {
   "cell_type": "markdown",
   "metadata": {},
   "source": [
    "```bash\n",
    "citation='\"Ioanna Tachmazidou et al. American Journal of Human Genetics (2017): 865–884\"'\n",
    "cd ${GenomePlotterDir}/Custom_associations\n",
    "cat tachmazidou_2017 | perl -lane '$F[1] = ucfirst $F[1]; print join \"\\t\", @F' | while read rsID trait; do\n",
    "    read chrom pos <<< $(wget -q rest.ensembl.org/variation/human/${rsID}.json -O - | jq -r '.mappings[0] | \"\\(.seq_region_name) \\(.start)\"')\n",
    "    echo -e \"${chrom}\\t${pos}\\t${rsID}\\t${trait}\\t${citation}\"\n",
    "done | sort -k1,1 -k2,2n > tachmazidou_2017_processed.tsv\n",
    "```"
   ]
  },
  {
   "cell_type": "markdown",
   "metadata": {},
   "source": [
    "```bash\n",
    "citation='\"Kalliope Panoutsopoulou et al. Nature Communication (2014) 5:5345\"'\n",
    "cd ${GenomePlotterDir}/Custom_associations\n",
    "cat Panoutsopoulou_2014 | perl -lane '$F[1] = ucfirst $F[1]; print join \"\\t\", @F' | while read rsID trait; do\n",
    "    read chrom pos <<< $(wget -q rest.ensembl.org/variation/human/${rsID}.json -O - | jq -r '.mappings[0] | \"\\(.seq_region_name) \\(.start)\"')\n",
    "    echo -e \"${chrom}\\t${pos}\\t${rsID}\\t${trait}\\t${citation}\"\n",
    "done | sort -k1,1 -k2,2n > Panoutsopoulou_2014_processed.tsv\n",
    "```"
   ]
  },
  {
   "cell_type": "markdown",
   "metadata": {},
   "source": [
    "```bash\n",
    "citation='\"arcOGEN consortium. Lancet (2012) 380(9844):815-823\"'\n",
    "cd ${GenomePlotterDir}/Custom_associations\n",
    "cat arcOGEN_2012 | perl -lane '$F[1] = ucfirst $F[1]; print join \"\\t\", @F' | while read rsID trait; do\n",
    "    read chrom pos <<< $(wget -q rest.ensembl.org/variation/human/${rsID}.json -O - | jq -r '.mappings[0] | \"\\(.seq_region_name) \\(.start)\"')\n",
    "    echo -e \"${chrom}\\t${pos}\\t${rsID}\\t${trait}\\t${citation}\"\n",
    "done | sort -k1,1 -k2,2n > arcOGEN_2012_processed.tsv\n",
    "```"
   ]
  }
 ],
 "metadata": {
  "kernelspec": {
   "display_name": "Python 3",
   "language": "python",
   "name": "python3"
  },
  "language_info": {
   "codemirror_mode": {
    "name": "ipython",
    "version": 3
   },
   "file_extension": ".py",
   "mimetype": "text/x-python",
   "name": "python",
   "nbconvert_exporter": "python",
   "pygments_lexer": "ipython3",
   "version": "3.6.0"
  }
 },
 "nbformat": 4,
 "nbformat_minor": 2
}
